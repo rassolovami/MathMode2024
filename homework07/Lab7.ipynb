{
  "nbformat": 4,
  "nbformat_minor": 0,
  "metadata": {
    "colab": {
      "provenance": []
    },
    "kernelspec": {
      "name": "python3",
      "display_name": "Python 3"
    },
    "language_info": {
      "name": "python"
    }
  },
  "cells": [
    {
      "cell_type": "code",
      "execution_count": 41,
      "metadata": {
        "id": "JjURCnN_udYj"
      },
      "outputs": [],
      "source": [
        "import pandas as pd\n",
        "import numpy as np"
      ]
    },
    {
      "cell_type": "code",
      "source": [
        "data = pd.read_csv(\"2008.csv\")\n",
        "data.head()"
      ],
      "metadata": {
        "colab": {
          "base_uri": "https://localhost:8080/",
          "height": 256
        },
        "id": "axRSfTVkvi8D",
        "outputId": "8a9e3389-aa2f-4f3e-8dc3-e734a25d5f8d"
      },
      "execution_count": 42,
      "outputs": [
        {
          "output_type": "execute_result",
          "data": {
            "text/plain": [
              "   Year  Month  DayofMonth  DayOfWeek  DepTime  CRSDepTime  ArrTime  \\\n",
              "0  2008      6          18          3   2111.0        2055   2308.0   \n",
              "1  2008      6           4          3   1426.0        1410   1730.0   \n",
              "2  2008      8           3          7   1143.0        1145   1501.0   \n",
              "3  2008      1          23          3   1141.0        1144   1323.0   \n",
              "4  2008      5           4          7    815.0         820   1243.0   \n",
              "\n",
              "   CRSArrTime UniqueCarrier  FlightNum  ... TaxiIn  TaxiOut  Cancelled  \\\n",
              "0        2300            WN        242  ...    3.0      8.0          0   \n",
              "1        1728            XE       2380  ...    4.0     12.0          0   \n",
              "2        1520            WN       1769  ...    4.0      9.0          0   \n",
              "3        1335            OO       3802  ...    4.0     19.0          0   \n",
              "4        1300            WN        399  ...    4.0      8.0          0   \n",
              "\n",
              "   CancellationCode  Diverted  CarrierDelay WeatherDelay NASDelay  \\\n",
              "0               NaN         0           NaN          NaN      NaN   \n",
              "1               NaN         0           NaN          NaN      NaN   \n",
              "2               NaN         0           NaN          NaN      NaN   \n",
              "3               NaN         0           NaN          NaN      NaN   \n",
              "4               NaN         0           NaN          NaN      NaN   \n",
              "\n",
              "   SecurityDelay  LateAircraftDelay  \n",
              "0            NaN                NaN  \n",
              "1            NaN                NaN  \n",
              "2            NaN                NaN  \n",
              "3            NaN                NaN  \n",
              "4            NaN                NaN  \n",
              "\n",
              "[5 rows x 29 columns]"
            ],
            "text/html": [
              "\n",
              "  <div id=\"df-fcc57153-5994-468f-9a0b-b82e5012dd0c\" class=\"colab-df-container\">\n",
              "    <div>\n",
              "<style scoped>\n",
              "    .dataframe tbody tr th:only-of-type {\n",
              "        vertical-align: middle;\n",
              "    }\n",
              "\n",
              "    .dataframe tbody tr th {\n",
              "        vertical-align: top;\n",
              "    }\n",
              "\n",
              "    .dataframe thead th {\n",
              "        text-align: right;\n",
              "    }\n",
              "</style>\n",
              "<table border=\"1\" class=\"dataframe\">\n",
              "  <thead>\n",
              "    <tr style=\"text-align: right;\">\n",
              "      <th></th>\n",
              "      <th>Year</th>\n",
              "      <th>Month</th>\n",
              "      <th>DayofMonth</th>\n",
              "      <th>DayOfWeek</th>\n",
              "      <th>DepTime</th>\n",
              "      <th>CRSDepTime</th>\n",
              "      <th>ArrTime</th>\n",
              "      <th>CRSArrTime</th>\n",
              "      <th>UniqueCarrier</th>\n",
              "      <th>FlightNum</th>\n",
              "      <th>...</th>\n",
              "      <th>TaxiIn</th>\n",
              "      <th>TaxiOut</th>\n",
              "      <th>Cancelled</th>\n",
              "      <th>CancellationCode</th>\n",
              "      <th>Diverted</th>\n",
              "      <th>CarrierDelay</th>\n",
              "      <th>WeatherDelay</th>\n",
              "      <th>NASDelay</th>\n",
              "      <th>SecurityDelay</th>\n",
              "      <th>LateAircraftDelay</th>\n",
              "    </tr>\n",
              "  </thead>\n",
              "  <tbody>\n",
              "    <tr>\n",
              "      <th>0</th>\n",
              "      <td>2008</td>\n",
              "      <td>6</td>\n",
              "      <td>18</td>\n",
              "      <td>3</td>\n",
              "      <td>2111.0</td>\n",
              "      <td>2055</td>\n",
              "      <td>2308.0</td>\n",
              "      <td>2300</td>\n",
              "      <td>WN</td>\n",
              "      <td>242</td>\n",
              "      <td>...</td>\n",
              "      <td>3.0</td>\n",
              "      <td>8.0</td>\n",
              "      <td>0</td>\n",
              "      <td>NaN</td>\n",
              "      <td>0</td>\n",
              "      <td>NaN</td>\n",
              "      <td>NaN</td>\n",
              "      <td>NaN</td>\n",
              "      <td>NaN</td>\n",
              "      <td>NaN</td>\n",
              "    </tr>\n",
              "    <tr>\n",
              "      <th>1</th>\n",
              "      <td>2008</td>\n",
              "      <td>6</td>\n",
              "      <td>4</td>\n",
              "      <td>3</td>\n",
              "      <td>1426.0</td>\n",
              "      <td>1410</td>\n",
              "      <td>1730.0</td>\n",
              "      <td>1728</td>\n",
              "      <td>XE</td>\n",
              "      <td>2380</td>\n",
              "      <td>...</td>\n",
              "      <td>4.0</td>\n",
              "      <td>12.0</td>\n",
              "      <td>0</td>\n",
              "      <td>NaN</td>\n",
              "      <td>0</td>\n",
              "      <td>NaN</td>\n",
              "      <td>NaN</td>\n",
              "      <td>NaN</td>\n",
              "      <td>NaN</td>\n",
              "      <td>NaN</td>\n",
              "    </tr>\n",
              "    <tr>\n",
              "      <th>2</th>\n",
              "      <td>2008</td>\n",
              "      <td>8</td>\n",
              "      <td>3</td>\n",
              "      <td>7</td>\n",
              "      <td>1143.0</td>\n",
              "      <td>1145</td>\n",
              "      <td>1501.0</td>\n",
              "      <td>1520</td>\n",
              "      <td>WN</td>\n",
              "      <td>1769</td>\n",
              "      <td>...</td>\n",
              "      <td>4.0</td>\n",
              "      <td>9.0</td>\n",
              "      <td>0</td>\n",
              "      <td>NaN</td>\n",
              "      <td>0</td>\n",
              "      <td>NaN</td>\n",
              "      <td>NaN</td>\n",
              "      <td>NaN</td>\n",
              "      <td>NaN</td>\n",
              "      <td>NaN</td>\n",
              "    </tr>\n",
              "    <tr>\n",
              "      <th>3</th>\n",
              "      <td>2008</td>\n",
              "      <td>1</td>\n",
              "      <td>23</td>\n",
              "      <td>3</td>\n",
              "      <td>1141.0</td>\n",
              "      <td>1144</td>\n",
              "      <td>1323.0</td>\n",
              "      <td>1335</td>\n",
              "      <td>OO</td>\n",
              "      <td>3802</td>\n",
              "      <td>...</td>\n",
              "      <td>4.0</td>\n",
              "      <td>19.0</td>\n",
              "      <td>0</td>\n",
              "      <td>NaN</td>\n",
              "      <td>0</td>\n",
              "      <td>NaN</td>\n",
              "      <td>NaN</td>\n",
              "      <td>NaN</td>\n",
              "      <td>NaN</td>\n",
              "      <td>NaN</td>\n",
              "    </tr>\n",
              "    <tr>\n",
              "      <th>4</th>\n",
              "      <td>2008</td>\n",
              "      <td>5</td>\n",
              "      <td>4</td>\n",
              "      <td>7</td>\n",
              "      <td>815.0</td>\n",
              "      <td>820</td>\n",
              "      <td>1243.0</td>\n",
              "      <td>1300</td>\n",
              "      <td>WN</td>\n",
              "      <td>399</td>\n",
              "      <td>...</td>\n",
              "      <td>4.0</td>\n",
              "      <td>8.0</td>\n",
              "      <td>0</td>\n",
              "      <td>NaN</td>\n",
              "      <td>0</td>\n",
              "      <td>NaN</td>\n",
              "      <td>NaN</td>\n",
              "      <td>NaN</td>\n",
              "      <td>NaN</td>\n",
              "      <td>NaN</td>\n",
              "    </tr>\n",
              "  </tbody>\n",
              "</table>\n",
              "<p>5 rows × 29 columns</p>\n",
              "</div>\n",
              "    <div class=\"colab-df-buttons\">\n",
              "\n",
              "  <div class=\"colab-df-container\">\n",
              "    <button class=\"colab-df-convert\" onclick=\"convertToInteractive('df-fcc57153-5994-468f-9a0b-b82e5012dd0c')\"\n",
              "            title=\"Convert this dataframe to an interactive table.\"\n",
              "            style=\"display:none;\">\n",
              "\n",
              "  <svg xmlns=\"http://www.w3.org/2000/svg\" height=\"24px\" viewBox=\"0 -960 960 960\">\n",
              "    <path d=\"M120-120v-720h720v720H120Zm60-500h600v-160H180v160Zm220 220h160v-160H400v160Zm0 220h160v-160H400v160ZM180-400h160v-160H180v160Zm440 0h160v-160H620v160ZM180-180h160v-160H180v160Zm440 0h160v-160H620v160Z\"/>\n",
              "  </svg>\n",
              "    </button>\n",
              "\n",
              "  <style>\n",
              "    .colab-df-container {\n",
              "      display:flex;\n",
              "      gap: 12px;\n",
              "    }\n",
              "\n",
              "    .colab-df-convert {\n",
              "      background-color: #E8F0FE;\n",
              "      border: none;\n",
              "      border-radius: 50%;\n",
              "      cursor: pointer;\n",
              "      display: none;\n",
              "      fill: #1967D2;\n",
              "      height: 32px;\n",
              "      padding: 0 0 0 0;\n",
              "      width: 32px;\n",
              "    }\n",
              "\n",
              "    .colab-df-convert:hover {\n",
              "      background-color: #E2EBFA;\n",
              "      box-shadow: 0px 1px 2px rgba(60, 64, 67, 0.3), 0px 1px 3px 1px rgba(60, 64, 67, 0.15);\n",
              "      fill: #174EA6;\n",
              "    }\n",
              "\n",
              "    .colab-df-buttons div {\n",
              "      margin-bottom: 4px;\n",
              "    }\n",
              "\n",
              "    [theme=dark] .colab-df-convert {\n",
              "      background-color: #3B4455;\n",
              "      fill: #D2E3FC;\n",
              "    }\n",
              "\n",
              "    [theme=dark] .colab-df-convert:hover {\n",
              "      background-color: #434B5C;\n",
              "      box-shadow: 0px 1px 3px 1px rgba(0, 0, 0, 0.15);\n",
              "      filter: drop-shadow(0px 1px 2px rgba(0, 0, 0, 0.3));\n",
              "      fill: #FFFFFF;\n",
              "    }\n",
              "  </style>\n",
              "\n",
              "    <script>\n",
              "      const buttonEl =\n",
              "        document.querySelector('#df-fcc57153-5994-468f-9a0b-b82e5012dd0c button.colab-df-convert');\n",
              "      buttonEl.style.display =\n",
              "        google.colab.kernel.accessAllowed ? 'block' : 'none';\n",
              "\n",
              "      async function convertToInteractive(key) {\n",
              "        const element = document.querySelector('#df-fcc57153-5994-468f-9a0b-b82e5012dd0c');\n",
              "        const dataTable =\n",
              "          await google.colab.kernel.invokeFunction('convertToInteractive',\n",
              "                                                    [key], {});\n",
              "        if (!dataTable) return;\n",
              "\n",
              "        const docLinkHtml = 'Like what you see? Visit the ' +\n",
              "          '<a target=\"_blank\" href=https://colab.research.google.com/notebooks/data_table.ipynb>data table notebook</a>'\n",
              "          + ' to learn more about interactive tables.';\n",
              "        element.innerHTML = '';\n",
              "        dataTable['output_type'] = 'display_data';\n",
              "        await google.colab.output.renderOutput(dataTable, element);\n",
              "        const docLink = document.createElement('div');\n",
              "        docLink.innerHTML = docLinkHtml;\n",
              "        element.appendChild(docLink);\n",
              "      }\n",
              "    </script>\n",
              "  </div>\n",
              "\n",
              "\n",
              "<div id=\"df-62ee6bb9-671e-442f-8a71-1b6be4cf9195\">\n",
              "  <button class=\"colab-df-quickchart\" onclick=\"quickchart('df-62ee6bb9-671e-442f-8a71-1b6be4cf9195')\"\n",
              "            title=\"Suggest charts\"\n",
              "            style=\"display:none;\">\n",
              "\n",
              "<svg xmlns=\"http://www.w3.org/2000/svg\" height=\"24px\"viewBox=\"0 0 24 24\"\n",
              "     width=\"24px\">\n",
              "    <g>\n",
              "        <path d=\"M19 3H5c-1.1 0-2 .9-2 2v14c0 1.1.9 2 2 2h14c1.1 0 2-.9 2-2V5c0-1.1-.9-2-2-2zM9 17H7v-7h2v7zm4 0h-2V7h2v10zm4 0h-2v-4h2v4z\"/>\n",
              "    </g>\n",
              "</svg>\n",
              "  </button>\n",
              "\n",
              "<style>\n",
              "  .colab-df-quickchart {\n",
              "      --bg-color: #E8F0FE;\n",
              "      --fill-color: #1967D2;\n",
              "      --hover-bg-color: #E2EBFA;\n",
              "      --hover-fill-color: #174EA6;\n",
              "      --disabled-fill-color: #AAA;\n",
              "      --disabled-bg-color: #DDD;\n",
              "  }\n",
              "\n",
              "  [theme=dark] .colab-df-quickchart {\n",
              "      --bg-color: #3B4455;\n",
              "      --fill-color: #D2E3FC;\n",
              "      --hover-bg-color: #434B5C;\n",
              "      --hover-fill-color: #FFFFFF;\n",
              "      --disabled-bg-color: #3B4455;\n",
              "      --disabled-fill-color: #666;\n",
              "  }\n",
              "\n",
              "  .colab-df-quickchart {\n",
              "    background-color: var(--bg-color);\n",
              "    border: none;\n",
              "    border-radius: 50%;\n",
              "    cursor: pointer;\n",
              "    display: none;\n",
              "    fill: var(--fill-color);\n",
              "    height: 32px;\n",
              "    padding: 0;\n",
              "    width: 32px;\n",
              "  }\n",
              "\n",
              "  .colab-df-quickchart:hover {\n",
              "    background-color: var(--hover-bg-color);\n",
              "    box-shadow: 0 1px 2px rgba(60, 64, 67, 0.3), 0 1px 3px 1px rgba(60, 64, 67, 0.15);\n",
              "    fill: var(--button-hover-fill-color);\n",
              "  }\n",
              "\n",
              "  .colab-df-quickchart-complete:disabled,\n",
              "  .colab-df-quickchart-complete:disabled:hover {\n",
              "    background-color: var(--disabled-bg-color);\n",
              "    fill: var(--disabled-fill-color);\n",
              "    box-shadow: none;\n",
              "  }\n",
              "\n",
              "  .colab-df-spinner {\n",
              "    border: 2px solid var(--fill-color);\n",
              "    border-color: transparent;\n",
              "    border-bottom-color: var(--fill-color);\n",
              "    animation:\n",
              "      spin 1s steps(1) infinite;\n",
              "  }\n",
              "\n",
              "  @keyframes spin {\n",
              "    0% {\n",
              "      border-color: transparent;\n",
              "      border-bottom-color: var(--fill-color);\n",
              "      border-left-color: var(--fill-color);\n",
              "    }\n",
              "    20% {\n",
              "      border-color: transparent;\n",
              "      border-left-color: var(--fill-color);\n",
              "      border-top-color: var(--fill-color);\n",
              "    }\n",
              "    30% {\n",
              "      border-color: transparent;\n",
              "      border-left-color: var(--fill-color);\n",
              "      border-top-color: var(--fill-color);\n",
              "      border-right-color: var(--fill-color);\n",
              "    }\n",
              "    40% {\n",
              "      border-color: transparent;\n",
              "      border-right-color: var(--fill-color);\n",
              "      border-top-color: var(--fill-color);\n",
              "    }\n",
              "    60% {\n",
              "      border-color: transparent;\n",
              "      border-right-color: var(--fill-color);\n",
              "    }\n",
              "    80% {\n",
              "      border-color: transparent;\n",
              "      border-right-color: var(--fill-color);\n",
              "      border-bottom-color: var(--fill-color);\n",
              "    }\n",
              "    90% {\n",
              "      border-color: transparent;\n",
              "      border-bottom-color: var(--fill-color);\n",
              "    }\n",
              "  }\n",
              "</style>\n",
              "\n",
              "  <script>\n",
              "    async function quickchart(key) {\n",
              "      const quickchartButtonEl =\n",
              "        document.querySelector('#' + key + ' button');\n",
              "      quickchartButtonEl.disabled = true;  // To prevent multiple clicks.\n",
              "      quickchartButtonEl.classList.add('colab-df-spinner');\n",
              "      try {\n",
              "        const charts = await google.colab.kernel.invokeFunction(\n",
              "            'suggestCharts', [key], {});\n",
              "      } catch (error) {\n",
              "        console.error('Error during call to suggestCharts:', error);\n",
              "      }\n",
              "      quickchartButtonEl.classList.remove('colab-df-spinner');\n",
              "      quickchartButtonEl.classList.add('colab-df-quickchart-complete');\n",
              "    }\n",
              "    (() => {\n",
              "      let quickchartButtonEl =\n",
              "        document.querySelector('#df-62ee6bb9-671e-442f-8a71-1b6be4cf9195 button');\n",
              "      quickchartButtonEl.style.display =\n",
              "        google.colab.kernel.accessAllowed ? 'block' : 'none';\n",
              "    })();\n",
              "  </script>\n",
              "</div>\n",
              "    </div>\n",
              "  </div>\n"
            ],
            "application/vnd.google.colaboratory.intrinsic+json": {
              "type": "dataframe",
              "variable_name": "data"
            }
          },
          "metadata": {},
          "execution_count": 42
        }
      ]
    },
    {
      "cell_type": "markdown",
      "source": [
        "**1**. Какая из причин отмены рейса (CancellationCode) была самой частой?"
      ],
      "metadata": {
        "id": "57LGJtyy3Xpe"
      }
    },
    {
      "cell_type": "code",
      "source": [
        "# Подсчет количества каждой причины отмены рейса\n",
        "cancellation_race = data['CancellationCode'].value_counts()\n",
        "\n",
        "# Определение самой частой причины отмены рейса\n",
        "most_common_cancellation_code = cancellation_race.idxmax()\n",
        "\n",
        "print(f\"Самая частая причина отмены рейса: {most_common_cancellation_code}\")"
      ],
      "metadata": {
        "colab": {
          "base_uri": "https://localhost:8080/"
        },
        "id": "rPH6nuEJyHqG",
        "outputId": "c435333b-0fb5-497f-8d51-4ac9e4170af8"
      },
      "execution_count": 43,
      "outputs": [
        {
          "output_type": "stream",
          "name": "stdout",
          "text": [
            "Самая частая причина отмены рейса: A\n"
          ]
        }
      ]
    },
    {
      "cell_type": "markdown",
      "source": [
        "**Ответ**: A = carrier"
      ],
      "metadata": {
        "id": "DsGlFm3S3UJD"
      }
    },
    {
      "cell_type": "markdown",
      "source": [
        "**2**. Найдите среднее, минимальное и максимальное расстояние, пройденное самолетом."
      ],
      "metadata": {
        "id": "_s2EEejH3eoy"
      }
    },
    {
      "cell_type": "code",
      "source": [
        "distance = data[\"Distance\"]\n",
        "print ('Среднее расстояние:', int(distance.mean()))\n",
        "print ('Минимальное расстояние:', distance.min())\n",
        "print ('Максимальное расстояние:', distance.max())"
      ],
      "metadata": {
        "colab": {
          "base_uri": "https://localhost:8080/"
        },
        "id": "5BkDuPK63oDS",
        "outputId": "96ad03ca-15cc-4071-bcee-0bae95c36ac5"
      },
      "execution_count": 44,
      "outputs": [
        {
          "output_type": "stream",
          "name": "stdout",
          "text": [
            "Среднее расстояние: 724\n",
            "Минимальное расстояние: 31\n",
            "Максимальное расстояние: 4962\n"
          ]
        }
      ]
    },
    {
      "cell_type": "markdown",
      "source": [
        "**3**. Не выглядит ли подозрительным минимальное пройденное расстояние? В какие дни и на каких рейсах оно было? Какое расстояние было пройдено этими же рейсами в другие дни?"
      ],
      "metadata": {
        "id": "dezan4AT4O7h"
      }
    },
    {
      "cell_type": "code",
      "source": [
        "list1 = [\"Year\", \"Month\", \"DayofMonth\", \"FlightNum\", \"UniqueCarrier\"]\n",
        "list2 = [\"FlightNum\", \"UniqueCarrier\", \"Distance\"]\n",
        "\n",
        "# извлечение набора данных days с помощью фильтрации по минимальному значению, удаление дубликатов\n",
        "days = data[distance == distance.min()][list1].drop_duplicates()\n",
        "print(days)\n",
        "\n",
        "flights = data[distance == distance.min()][[\"FlightNum\", \"UniqueCarrier\"]].drop_duplicates()\n",
        "\n",
        "# функция принимает набор данных о рейсах и возвращает логическое выражение для фильтрации данных по конкретному рейсу\n",
        "get_other_flights = lambda flight: \\\n",
        "    np.logical_and(data[\"FlightNum\"] == flight[0], data[\"UniqueCarrier\"] == flight[1])\n",
        "[data[get_other_flights(flight)][list2].drop_duplicates() for flight in flights.values]"
      ],
      "metadata": {
        "colab": {
          "base_uri": "https://localhost:8080/"
        },
        "id": "bs-cuFEH4Viz",
        "outputId": "c87c8413-a64c-481c-c1ee-3de861b8a74f"
      },
      "execution_count": 45,
      "outputs": [
        {
          "output_type": "stream",
          "name": "stdout",
          "text": [
            "       Year  Month  DayofMonth  FlightNum UniqueCarrier\n",
            "1116   2008     12          30         65            AS\n",
            "6958   2008     12          26         65            AS\n",
            "17349  2008      8          18         64            AS\n",
            "27534  2008      3          11         64            AS\n",
            "46082  2008      8           9         65            AS\n",
            "48112  2008      2          28         64            AS\n"
          ]
        },
        {
          "output_type": "execute_result",
          "data": {
            "text/plain": [
              "[       FlightNum UniqueCarrier  Distance\n",
              " 1116          65            AS        31\n",
              " 1517          65            AS       680\n",
              " 6326          65            AS        82\n",
              " 10113         65            AS       571\n",
              " 43132         65            AS       123,\n",
              "        FlightNum UniqueCarrier  Distance\n",
              " 1389          64            AS       680\n",
              " 3869          64            AS        82\n",
              " 4466          64            AS       123\n",
              " 17349         64            AS        31\n",
              " 43353         64            AS       571]"
            ]
          },
          "metadata": {},
          "execution_count": 45
        }
      ]
    },
    {
      "cell_type": "markdown",
      "source": [
        "**Ответ:** Минимальное расстояние было совершено 30 декабря (65 рейс) и 18 августа (64 рейс)."
      ],
      "metadata": {
        "id": "iFiHVPkG9PAD"
      }
    },
    {
      "cell_type": "markdown",
      "source": [
        "**4**. Из какого аэропорта было произведено больше всего вылетов? В каком городе он находится?"
      ],
      "metadata": {
        "id": "2yuLIsiU-Hvd"
      }
    },
    {
      "cell_type": "code",
      "source": [
        "# Подсчет количества вылетов из каждого аэропорта\n",
        "departure_counts = data['Origin'].value_counts()\n",
        "\n",
        "# Нахождение аэропорта с наибольшим количеством вылетов\n",
        "airport_with_most_departures = departure_counts.idxmax()\n",
        "\n",
        "print('Аэропорт, из которого было произведено больше всего вылетов:', airport_with_most_departures)\n"
      ],
      "metadata": {
        "colab": {
          "base_uri": "https://localhost:8080/"
        },
        "id": "gG2XYZiR-IXu",
        "outputId": "8bca6e1b-1559-4876-ef0a-0bcf085762ac"
      },
      "execution_count": 46,
      "outputs": [
        {
          "output_type": "stream",
          "name": "stdout",
          "text": [
            "Аэропорт, из которого было произведено больше всего вылетов: ATL\n"
          ]
        }
      ]
    },
    {
      "cell_type": "markdown",
      "source": [
        "**Ответ**: Международный аэропорт Хартсфилд-Джексон Атланта расположен в городе Атланта, Джорджия, США."
      ],
      "metadata": {
        "id": "fQACJnn3Ftdr"
      }
    },
    {
      "cell_type": "markdown",
      "source": [
        "**5**. Найдите для каждого аэропорта среднее время полета (AirTime) по всем вылетевшим из него рейсам. Какой аэропорт имеет наибольшее значение этого показателя?"
      ],
      "metadata": {
        "id": "4mKBar1sFwHV"
      }
    },
    {
      "cell_type": "code",
      "source": [
        "# Группировка данных по аэропортам вылета и вычисление среднего времени полета\n",
        "average_airtime_by_origin = data.groupby('Origin')['AirTime'].mean()\n",
        "\n",
        "# Нахождение аэропорта с наибольшим средним временем полета\n",
        "airport_with_longest_average_airtime = average_airtime_by_origin.idxmax()\n",
        "longest_average_airtime = average_airtime_by_origin.max()\n",
        "\n",
        "print(f\"Аэропорт с наибольшим средним временем полета: {airport_with_longest_average_airtime}\")\n",
        "print(f\"Среднее время полета в этом аэропорте: {int(longest_average_airtime)} минут\")"
      ],
      "metadata": {
        "colab": {
          "base_uri": "https://localhost:8080/"
        },
        "id": "AWqj2SkvF0MZ",
        "outputId": "3204661b-4112-416c-fe59-e08ea0d5f8a9"
      },
      "execution_count": 47,
      "outputs": [
        {
          "output_type": "stream",
          "name": "stdout",
          "text": [
            "Аэропорт с наибольшим средним временем полета: SJU\n",
            "Среднее время полета в этом аэропорте: 205 минут\n"
          ]
        }
      ]
    },
    {
      "cell_type": "markdown",
      "source": [
        "**6**. Найдите аэропорт, у которого наибольшая доля задержанных (DepDelay > 0) рейсов. Исключите при этом из рассмотрения аэропорты, из которых было отправлено меньше 1000 рейсов (используйте функцию filter после groupby)."
      ],
      "metadata": {
        "id": "le8F6SXBHYVS"
      }
    },
    {
      "cell_type": "code",
      "source": [
        "# Группировка данных по аэропортам вылета\n",
        "grouped = data.groupby('Origin')\n",
        "\n",
        "# Фильтрация аэропортов с числом рейсов менее 1000\n",
        "filtered_grouped = grouped.filter(lambda x: len(x) >= 1000)\n",
        "\n",
        "# Вычисление доли задержанных рейсов для каждого аэропорта\n",
        "delayed_flights_by_origin = filtered_grouped.groupby('Origin')['DepDelay'].apply(lambda x: (x > 0).mean())\n",
        "\n",
        "# Нахождение аэропорта с наибольшей долей задержанных рейсов\n",
        "airport_with_highest_delay_rate = delayed_flights_by_origin.idxmax()\n",
        "highest_delay_rate = delayed_flights_by_origin.max()\n",
        "\n",
        "print(f\"Аэропорт с наибольшей долей задержанных рейсов: {airport_with_highest_delay_rate}\")\n",
        "print(f\"Доля задержанных рейсов в этом аэропорте: {highest_delay_rate}\")"
      ],
      "metadata": {
        "colab": {
          "base_uri": "https://localhost:8080/"
        },
        "id": "Ha5mAgaqHcoS",
        "outputId": "d188d46e-60a7-4585-a5c3-69cb731567ef"
      },
      "execution_count": 48,
      "outputs": [
        {
          "output_type": "stream",
          "name": "stdout",
          "text": [
            "Аэропорт с наибольшей долей задержанных рейсов: EWR\n",
            "Доля задержанных рейсов в этом аэропорте: 0.5111591072714183\n"
          ]
        }
      ]
    },
    {
      "cell_type": "markdown",
      "source": [
        "**Линейная регрессия**"
      ],
      "metadata": {
        "id": "9sd-bGuXmEaA"
      }
    },
    {
      "cell_type": "markdown",
      "source": [
        "**7**. Считайте выборку из файла при помощи функции pd.read_csv и ответьте на следующие вопросы:\n",
        "\n",
        "Имеются ли в данных пропущенные значения?\n",
        "Сколько всего пропущенных элементов в таблице \"объект-признак\"?\n",
        "Сколько объектов имеют хотя бы один пропуск?\n",
        "Сколько признаков имеют хотя бы одно пропущенное значение?"
      ],
      "metadata": {
        "id": "rfQnfEvpmQGq"
      }
    },
    {
      "cell_type": "code",
      "source": [
        "# Проверка на наличие пропущенных значений в данных\n",
        "has_missing_values = data.isnull().values.any()\n",
        "\n",
        "# Подсчет общего количества пропущенных элементов в таблице\n",
        "total_missing_values = data.isnull().sum().sum()\n",
        "\n",
        "# Подсчет количества объектов с хотя бы одним пропуском\n",
        "objects_with_missing = data.isnull().any(axis=1).sum()\n",
        "\n",
        "# Подсчет количества признаков с хотя бы одним пропущенным значением\n",
        "features_with_missing = data.isnull().any(axis=0).sum()\n",
        "\n",
        "print('Проверка на наличие пропущенных значений в данных:', has_missing_values)\n",
        "print('Подсчет общего количества пропущенных элементов в таблице:', total_missing_values)\n",
        "print('Подсчет количества объектов с хотя бы одним пропуском:', objects_with_missing)\n",
        "print('Подсчет количества признаков с хотя бы одним пропущенным значением:', features_with_missing)"
      ],
      "metadata": {
        "colab": {
          "base_uri": "https://localhost:8080/"
        },
        "id": "Ej94DZhKmTTB",
        "outputId": "95a79045-7d42-438d-e50d-fb758334b5eb"
      },
      "execution_count": 49,
      "outputs": [
        {
          "output_type": "stream",
          "name": "stdout",
          "text": [
            "Проверка на наличие пропущенных значений в данных: True\n",
            "Подсчет общего количества пропущенных элементов в таблице: 355215\n",
            "Подсчет количества объектов с хотя бы одним пропуском: 70000\n",
            "Подсчет количества признаков с хотя бы одним пропущенным значением: 16\n"
          ]
        }
      ]
    },
    {
      "cell_type": "markdown",
      "source": [
        "Как вы понимаете, также не имеет смысла рассматривать при решении поставленной задачи объекты с пропущенным значением целевой переменной. В связи с этим ответьте на следующие вопросы и выполните соответствующие действия:\n",
        "\n",
        "Имеются ли пропущенные значения в целевой переменной?\n",
        "Проанализируйте объекты с пропущенными значениями целевой переменной. Чем вызвано это явление? Что их объединяет? Можно ли в связи с этим, на ваш взгляд, исключить какие-то признаки из рассмотрения? Обоснуйте свою точку зрения.\n",
        "Исключите из выборки объекты с пропущенным значением целевой переменной и со значением целевой переменной, равным 0, а также при необходимости исключите признаки в соответствии с вашим ответом на последний вопрос из списка и выделите целевую переменную в отдельный вектор, исключив её из матрицы \"объект-признак\"."
      ],
      "metadata": {
        "id": "usj7XnoeoPFi"
      }
    },
    {
      "cell_type": "code",
      "source": [
        "# Проверка наличия пропущенных значений в DepDelay\n",
        "print(\"Пропущенные значения в DepDelay:\", data['DepDelay'].isnull().any())\n",
        "\n",
        "# Анализ объектов с пропущенными значениями в DepDelay\n",
        "if data['DepDelay'].isnull().any():\n",
        "    missing_dep_delay_data = data[data['DepDelay'].isnull()]\n",
        "    print(\"Анализ объектов с пропущенными DepDelay:\")\n",
        "    print(missing_dep_delay_data.describe())\n",
        "\n",
        "# Исключение объектов с пропущенным DepDelay и DepDelay равным 0\n",
        "data_clean = data.dropna(subset=['DepDelay'])\n",
        "data_clean = data_clean[data_clean['DepDelay'] != 0]\n",
        "\n",
        "# Выделение целевой переменной и исключение её из матрицы признаков\n",
        "target_vector = data_clean['DepDelay']\n",
        "features_matrix = data_clean.drop(columns=['DepDelay'])\n"
      ],
      "metadata": {
        "colab": {
          "base_uri": "https://localhost:8080/"
        },
        "id": "AL5q32U3VQ6s",
        "outputId": "2abe0d33-5be5-4de6-a663-0267481cbf64"
      },
      "execution_count": 50,
      "outputs": [
        {
          "output_type": "stream",
          "name": "stdout",
          "text": [
            "Пропущенные значения в DepDelay: True\n",
            "Анализ объектов с пропущенными DepDelay:\n",
            "         Year        Month   DayofMonth    DayOfWeek  DepTime   CRSDepTime  \\\n",
            "count  1399.0  1399.000000  1399.000000  1399.000000      0.0  1399.000000   \n",
            "mean   2008.0     5.646891    15.562545     3.987848      NaN  1379.989993   \n",
            "std       0.0     3.705114     8.585107     2.018653      NaN   462.847110   \n",
            "min    2008.0     1.000000     1.000000     1.000000      NaN    50.000000   \n",
            "25%    2008.0     2.000000     9.000000     2.000000      NaN  1000.000000   \n",
            "50%    2008.0     5.000000    15.000000     4.000000      NaN  1420.000000   \n",
            "75%    2008.0     9.000000    22.000000     6.000000      NaN  1755.000000   \n",
            "max    2008.0    12.000000    31.000000     7.000000      NaN  2359.000000   \n",
            "\n",
            "       ArrTime   CRSArrTime    FlightNum  ActualElapsedTime  ...     Distance  \\\n",
            "count      0.0  1399.000000  1399.000000                0.0  ...  1399.000000   \n",
            "mean       NaN  1543.809149  2789.937098                NaN  ...   585.818442   \n",
            "std        NaN   480.819451  2131.389377                NaN  ...   461.874840   \n",
            "min        NaN     2.000000     5.000000                NaN  ...    31.000000   \n",
            "25%        NaN  1145.000000   895.000000                NaN  ...   256.000000   \n",
            "50%        NaN  1605.000000  2309.000000                NaN  ...   448.000000   \n",
            "75%        NaN  1940.000000  4444.000000                NaN  ...   761.000000   \n",
            "max        NaN  2359.000000  7794.000000                NaN  ...  2704.000000   \n",
            "\n",
            "       TaxiIn  TaxiOut  Cancelled  Diverted  CarrierDelay  WeatherDelay  \\\n",
            "count     0.0      0.0     1399.0    1399.0           0.0           0.0   \n",
            "mean      NaN      NaN        1.0       0.0           NaN           NaN   \n",
            "std       NaN      NaN        0.0       0.0           NaN           NaN   \n",
            "min       NaN      NaN        1.0       0.0           NaN           NaN   \n",
            "25%       NaN      NaN        1.0       0.0           NaN           NaN   \n",
            "50%       NaN      NaN        1.0       0.0           NaN           NaN   \n",
            "75%       NaN      NaN        1.0       0.0           NaN           NaN   \n",
            "max       NaN      NaN        1.0       0.0           NaN           NaN   \n",
            "\n",
            "       NASDelay  SecurityDelay  LateAircraftDelay  \n",
            "count       0.0            0.0                0.0  \n",
            "mean        NaN            NaN                NaN  \n",
            "std         NaN            NaN                NaN  \n",
            "min         NaN            NaN                NaN  \n",
            "25%         NaN            NaN                NaN  \n",
            "50%         NaN            NaN                NaN  \n",
            "75%         NaN            NaN                NaN  \n",
            "max         NaN            NaN                NaN  \n",
            "\n",
            "[8 rows x 24 columns]\n"
          ]
        }
      ]
    },
    {
      "cell_type": "markdown",
      "source": [
        "**Ответ:**\n",
        "Пропуски в данных о задержках могут быть вызваны различными причинами, например:\n",
        "\n",
        "Отмена рейса, что делает данные о задержке вылета неактуальными.\n",
        "Ошибки ввода или сбои в системе сбора данных."
      ],
      "metadata": {
        "id": "75Y83ZzNVv6L"
      }
    },
    {
      "cell_type": "markdown",
      "source": [
        "Объединяющие факторы:\n",
        "Необходимо проанализировать дополнительные признаки, такие как статус отмены (Cancelled) и причина отмены (CancellationCode), чтобы понять, можно ли исключить какие-то признаки из анализа. Если все пропущенные значения связаны с отмененными рейсами, можно рассмотреть возможность исключения этих признаков, так как они не несут информации о реальных задержках."
      ],
      "metadata": {
        "id": "flmJ7AWAV2JL"
      }
    },
    {
      "cell_type": "markdown",
      "source": [
        "**8**. Обратите внимание, что признаки DepTime, CRSDepTime, ArrTime, CRSArrTime приведены в формате hhmm, в связи с чем будет не вполне корректно рассматривать их как вещественные.\n",
        "\n",
        "Преобразуйте каждый признак FeatureName из указанных в пару новых признаков FeatureName_Hour, FeatureName_Minute, разделив каждое из значений на часы и минуты. Не забудьте при этом исключить исходный признак из выборки. В случае, если значение признака отсутствует, значения двух новых признаков, его заменяющих, также должны отсутствовать.\n",
        "\n",
        "Например, признак DepTime необходимо заменить на пару признаков DepTime_Hour, DepTime_Minute. При этом, например, значение 155 исходного признака будет преобразовано в значения 1 и 55 признаков DepTime_Hour, DepTime_Minute соответственно."
      ],
      "metadata": {
        "id": "IJYuImo4WIgm"
      }
    },
    {
      "cell_type": "code",
      "source": [
        "def split_time(df, time_col):\n",
        "    # Создание столбцов для часов и минут с исходными NaN значениями\n",
        "    df[time_col + '_Hour'] = np.nan\n",
        "    df[time_col + '_Minute'] = np.nan\n",
        "\n",
        "    # Обработка только тех строк, где есть ненулевое значение времени\n",
        "    notnull_time = df[time_col].dropna()\n",
        "\n",
        "    # Заполнение новых столбцов\n",
        "    df.loc[notnull_time.index, time_col + '_Hour'] = notnull_time // 100\n",
        "    df.loc[notnull_time.index, time_col + '_Minute'] = notnull_time % 100\n",
        "\n",
        "# Применяем функцию ко всем временным столбцам\n",
        "time_features = ['DepTime', 'CRSDepTime', 'ArrTime', 'CRSArrTime']\n",
        "for feature in time_features:\n",
        "    split_time(data, feature)\n",
        "\n",
        "    # Удаление исходного временного признака\n",
        "    data.drop(columns=[feature], inplace=True)\n",
        "\n",
        "print(data[['DepTime_Hour', 'DepTime_Minute', 'CRSDepTime_Hour', 'CRSDepTime_Minute', 'ArrTime_Hour', 'ArrTime_Minute', 'CRSArrTime_Hour', 'CRSArrTime_Minute']].head())"
      ],
      "metadata": {
        "colab": {
          "base_uri": "https://localhost:8080/"
        },
        "id": "H68TvDypXAt0",
        "outputId": "3dbe38fd-2289-40cc-bd8a-395da91e4032"
      },
      "execution_count": 51,
      "outputs": [
        {
          "output_type": "stream",
          "name": "stdout",
          "text": [
            "   DepTime_Hour  DepTime_Minute  CRSDepTime_Hour  CRSDepTime_Minute  \\\n",
            "0          21.0            11.0             20.0               55.0   \n",
            "1          14.0            26.0             14.0               10.0   \n",
            "2          11.0            43.0             11.0               45.0   \n",
            "3          11.0            41.0             11.0               44.0   \n",
            "4           8.0            15.0              8.0               20.0   \n",
            "\n",
            "   ArrTime_Hour  ArrTime_Minute  CRSArrTime_Hour  CRSArrTime_Minute  \n",
            "0          23.0             8.0             23.0                0.0  \n",
            "1          17.0            30.0             17.0               28.0  \n",
            "2          15.0             1.0             15.0               20.0  \n",
            "3          13.0            23.0             13.0               35.0  \n",
            "4          12.0            43.0             13.0                0.0  \n"
          ]
        }
      ]
    },
    {
      "cell_type": "markdown",
      "source": [
        "**9**. Некоторые из признаков, отличных от целевой переменной, могут оказывать чересчур значимое влияние на прогноз, поскольку по своему смыслу содержат большую долю информации о значении целевой переменной. Изучите описание датасета и исключите признаки, сильно коррелирующие с ответами. Ваш выбор признаков для исключения из выборки обоснуйте. Кроме того, исключите признаки TailNum и Year."
      ],
      "metadata": {
        "id": "2wgH2MAHXkaS"
      }
    },
    {
      "cell_type": "markdown",
      "source": [
        "**Ответ:**\n",
        "Признаки, которые сильно коррелируют с целевой переменной или содержат информацию, позволяющую предсказать цель, следует исключить, чтобы модель могла обучаться на более независимой основе и лучше обобщать на новых данных.\n",
        "\n",
        "Целевой переменной является DepDelay, которая описывает задержку вылета рейса. Признаки, которые могут содержать прямую информацию о задержке и следовательно, сильно коррелируют с DepDelay:\n",
        "\n",
        "ArrDelay – задержка прибытия. Очевидно, если рейс задерживается при вылете, это часто влияет на время прибытия.\n",
        "ActualElapsedTime, AirTime – эти параметры также связаны с временем полета и могут быть непрямо связаны с задержками.\n",
        "TaxiOut – время, проведенное в такси после полета, может коррелировать с задержками вылета.\n",
        "TailNum – номер хвоста самолета, который больше касается уникальности самолета, и может не вносить полезный вклад в модель для предсказания задержек.\n",
        "Year –  не играет существенной роли в предсказании задержек."
      ],
      "metadata": {
        "id": "xWA83aZsYTT7"
      }
    },
    {
      "cell_type": "code",
      "source": [
        "features_to_drop = ['ArrDelay', 'ActualElapsedTime', 'AirTime', 'TaxiOut', 'TailNum', 'Year']\n",
        "data = data.drop(columns=features_to_drop)\n"
      ],
      "metadata": {
        "id": "xWTjwPqWYoCn"
      },
      "execution_count": 52,
      "outputs": []
    },
    {
      "cell_type": "markdown",
      "source": [
        "**10**. Приведем данные к виду, пригодному для обучения линейных моделей. Для этого вещественные признаки надо отмасштабировать, а категориальные — привести к числовому виду. Также надо устранить пропуски в данных."
      ],
      "metadata": {
        "id": "ZZIEBuKHZN-w"
      }
    },
    {
      "cell_type": "code",
      "source": [
        "import matplotlib.pyplot as plt"
      ],
      "metadata": {
        "id": "pYPxgS48ZV3a"
      },
      "execution_count": 59,
      "outputs": []
    },
    {
      "cell_type": "code",
      "source": [
        "# Построение гистограмм для трех признаков\n",
        "plt.figure(figsize=(15, 5))\n",
        "\n",
        "plt.subplot(1, 3, 1)\n",
        "data['DepTime_Hour'].hist(bins=20)\n",
        "plt.title('DepTime_Hour')\n",
        "\n",
        "plt.subplot(1, 3, 2)\n",
        "data['TaxiIn'].hist(bins=20)\n",
        "plt.title('TaxiIn')\n",
        "\n",
        "plt.subplot(1, 3, 3)\n",
        "data['FlightNum'].hist(bins=20)\n",
        "plt.title('FlightNum')\n",
        "\n",
        "plt.show()"
      ],
      "metadata": {
        "colab": {
          "base_uri": "https://localhost:8080/",
          "height": 343
        },
        "id": "pW6TjK5JbGrQ",
        "outputId": "7e7b42af-17bd-4c8c-b6ea-f6b2081137f1"
      },
      "execution_count": 60,
      "outputs": [
        {
          "output_type": "display_data",
          "data": {
            "text/plain": [
              "<Figure size 1500x500 with 3 Axes>"
            ],
            "image/png": "[encoded data removed]"
          },
          "metadata": {}
        }
      ]
    },
    {
      "cell_type": "markdown",
      "source": [
        "Какую проблему вы наблюдаете на этих графиках? Как масштабирование поможет её исправить?"
      ],
      "metadata": {
        "id": "xMNE69_3cFTH"
      }
    },
    {
      "cell_type": "markdown",
      "source": [
        "**Ответ**:\n",
        "\n",
        "Различный диапазон значений. Это может привести к тому, что признаки с большими значениями будут оказывать более сильное влияние на процесс обучения модели.\n",
        "Масштабирование уравнивает диапазоны значений, делая признаки равнозначными в контексте их вклада."
      ],
      "metadata": {
        "id": "fyzdpafdcFwy"
      }
    },
    {
      "cell_type": "markdown",
      "source": [
        "Реализуйте функцию transform_data, которая принимает на вход DataFrame с признаками и выполняет следующие шаги:\n",
        "\n",
        "Замена пропущенных значений на нули для вещественных признаков и на строки 'nan' для категориальных.\n",
        "Масштабирование вещественных признаков с помощью StandardScaler.\n",
        "One-hot-кодирование категориальных признаков с помощью DictVectorizer или функции pd.get_dummies.\n",
        "Метод должен возвращать преобразованный DataFrame, который должна состоять из масштабированных вещественных признаков и закодированных категориальных (исходные признаки должны быть исключены из выборки)."
      ],
      "metadata": {
        "id": "KQSZXElFdEQR"
      }
    },
    {
      "cell_type": "code",
      "source": [
        "from sklearn.preprocessing import StandardScaler\n",
        "\n",
        "def transform_data(data):\n",
        "    # Определяем категориальные и вещественные признаки\n",
        "    categorical_features = data.select_dtypes(include=['object', 'category']).columns\n",
        "    numerical_features = data.select_dtypes(include=['number']).columns\n",
        "\n",
        "    # Замена пропущенных значений\n",
        "    data[categorical_features] = data[categorical_features].fillna('nan')\n",
        "    data[numerical_features] = data[numerical_features].fillna(0)\n",
        "\n",
        "    # Масштабирование вещественных признаков\n",
        "    scaler = StandardScaler()\n",
        "    data[numerical_features] = scaler.fit_transform(data[numerical_features])\n",
        "\n",
        "    # One-hot-кодирование категориальных признаков\n",
        "    data = pd.get_dummies(data, columns=categorical_features, drop_first=True)\n",
        "\n",
        "    return data\n"
      ],
      "metadata": {
        "id": "Oaqm2YgEdIId"
      },
      "execution_count": 61,
      "outputs": []
    },
    {
      "cell_type": "code",
      "source": [
        "transformed_data = transform_data(data)\n",
        "\n",
        "# Вывод количества признаков после преобразования\n",
        "print(\"Количество признаков после преобразования:\", transformed_data.shape[1])"
      ],
      "metadata": {
        "colab": {
          "base_uri": "https://localhost:8080/"
        },
        "id": "as7hBOhWdnD4",
        "outputId": "54cbc1ac-fe97-4a9c-cbc6-a63e9177b324"
      },
      "execution_count": 64,
      "outputs": [
        {
          "output_type": "stream",
          "name": "stdout",
          "text": [
            "Количество признаков после преобразования: 639\n"
          ]
        }
      ]
    },
    {
      "cell_type": "markdown",
      "source": [
        "**11**. Разбейте выборку и вектор целевой переменной на обучение и контроль в отношении 70/30 (для этого можно использовать, например, функцию train_test_split)."
      ],
      "metadata": {
        "id": "mP8Fi9Q7d0C7"
      }
    },
    {
      "cell_type": "code",
      "source": [
        "from sklearn.model_selection import train_test_split\n",
        "\n",
        "# Разделение данных на признаки и целевую переменную\n",
        "X = data.drop('DepDelay', axis=1)\n",
        "y = data['DepDelay']\n",
        "\n",
        "# Разбиение данных на обучающую и тестовую выборки\n",
        "X_train, X_test, y_train, y_test = train_test_split(X, y, test_size=0.3, random_state=42)\n",
        "\n",
        "# Вывод размеров полученных выборок\n",
        "print(\"Размер обучающей выборки:\", X_train.shape)\n",
        "print(\"Размер тестовой выборки:\", X_test.shape)"
      ],
      "metadata": {
        "colab": {
          "base_uri": "https://localhost:8080/"
        },
        "id": "o55Fyn4ed2CJ",
        "outputId": "f182b1ca-5a7b-4c80-a8fe-a7c53fa81c50"
      },
      "execution_count": 65,
      "outputs": [
        {
          "output_type": "stream",
          "name": "stdout",
          "text": [
            "Размер обучающей выборки: (49000, 26)\n",
            "Размер тестовой выборки: (21000, 26)\n"
          ]
        }
      ]
    },
    {
      "cell_type": "markdown",
      "source": [
        "**12**. Обучите линейную регрессию на 1000 объектах из обучающей выборки и выведите значения MSE и R^2 на этой подвыборке и контрольной выборке (итого 4 различных числа). Проинтерпретируйте полученный результат — насколько качественные прогнозы строит полученная модель? Какие проблемы наблюдаются в модели?\n",
        "\n",
        "Подсказка: изучите значения полученных коэффициентов w, сохраненных в атрибуте coef_ объекта LinearRegression."
      ],
      "metadata": {
        "id": "31P8sBjifjPu"
      }
    },
    {
      "cell_type": "code",
      "source": [
        "from sklearn.model_selection import train_test_split\n",
        "from sklearn.linear_model import LinearRegression\n",
        "from sklearn.metrics import mean_squared_error, r2_score\n",
        "\n",
        "# Разбиение данных на признаки и целевую переменную уже из преобразованного датасета\n",
        "X_transformed = transformed_data.drop('DepDelay', axis=1)\n",
        "y_transformed = transformed_data['DepDelay']\n",
        "\n",
        "# Разбиение данных на обучающую и тестовую выборки\n",
        "X_train, X_test, y_train, y_test = train_test_split(X_transformed, y_transformed, test_size=0.3, random_state=42)\n",
        "\n",
        "# Выборка 1000 объектов из обучающей выборки\n",
        "X_train_subsample = X_train[:1000]\n",
        "y_train_subsample = y_train[:1000]\n",
        "\n",
        "# Обучение модели линейной регрессии\n",
        "model = LinearRegression()\n",
        "model.fit(X_train_subsample, y_train_subsample)\n",
        "\n",
        "# Предсказания модели на подвыборке и на контрольной выборке\n",
        "y_pred_train = model.predict(X_train_subsample)\n",
        "y_pred_test = model.predict(X_test)\n",
        "\n",
        "# Вычисление MSE и R^2 для обучающей подвыборки\n",
        "mse_train = mean_squared_error(y_train_subsample, y_pred_train)\n",
        "r2_train = r2_score(y_train_subsample, y_pred_train)\n",
        "\n",
        "# Вычисление MSE и R^2 для тестовой выборки\n",
        "mse_test = mean_squared_error(y_test, y_pred_test)\n",
        "r2_test = r2_score(y_test, y_pred_test)\n",
        "\n",
        "# Вывод результатов\n",
        "print(\"Обучающая подвыборка - MSE: {:.2f}, R^2: {:.2f}\".format(mse_train, r2_train))\n",
        "print(\"Тестовая выборка - MSE: {:.2f}, R^2: {:.2f}\".format(mse_test, r2_test))\n"
      ],
      "metadata": {
        "colab": {
          "base_uri": "https://localhost:8080/"
        },
        "id": "NheKDN7MitHO",
        "outputId": "a5053ea7-e116-4684-80aa-02958ec975e6"
      },
      "execution_count": 69,
      "outputs": [
        {
          "output_type": "stream",
          "name": "stdout",
          "text": [
            "Обучающая подвыборка - MSE: 0.05, R^2: 0.94\n",
            "Тестовая выборка - MSE: 133223977120251922849202176.00, R^2: -125672186961475744185712640.00\n"
          ]
        }
      ]
    },
    {
      "cell_type": "markdown",
      "source": [
        "**Ответ:**\n",
        "\n",
        "MSE (Mean Squared Error): Чем ниже значение, тем ближе предсказания модели к фактическим данным.\n",
        "R^2 (Coefficient of Determination): Значение близкое к 1 указывает на высокую точность модели.\n",
        "\n",
        "\n",
        "Очень маленький MSE и очень высокий R^2 на обучающей подвыборке: Это может указывать на то, что модель хорошо работает на ограниченном наборе данных (1000 объектов), с которым она была обучена.\n",
        "\n",
        "Экстремально высокий MSE и отрицательный R^2 на тестовой выборке: Это явно указывает на проблему переобучения. Модель, которая показывает хорошие результаты на обучающих данных, полностью теряет способность к обобщению на новых данных. Отрицательный R^2 показывает, что модель работает хуже, чем простое предсказание среднего значения целевой переменной."
      ],
      "metadata": {
        "id": "lzk18ghti001"
      }
    },
    {
      "cell_type": "markdown",
      "source": [
        "**13**. Обучение линейной регрессии.\n",
        "Обучите линейную регрессию с L1(Lasso) и L2(Ridge) регуляризаторами (используйте параметры по умолчанию). Посмотрите, какое количество коэффициентов близко к 0 (степень близости к 0 определите сами из разумных пределов). Постройте график зависимости числа ненулевых коэффициентов от коэффицента регуляризации (перебирайте значения по логарифмической сетке от 10:^3 до 10^3). Согласуются ли результаты с вашими ожиданиями?"
      ],
      "metadata": {
        "id": "agtbpt_Djr4-"
      }
    },
    {
      "cell_type": "code",
      "source": [
        "from sklearn.linear_model import Lasso, Ridge\n",
        "import numpy as np\n",
        "import matplotlib.pyplot as plt\n",
        "\n",
        "# Значения коэффициентов регуляризации\n",
        "alphas = np.logspace(-3, 3, 100)\n",
        "\n",
        "# Списки для хранения количеств ненулевых коэффициентов\n",
        "non_zeros_lasso = []\n",
        "non_zeros_ridge = []\n",
        "\n",
        "# Порог для определения \"нулевых\" коэффициентов\n",
        "zero_threshold = 1e-3\n",
        "\n",
        "for alpha in alphas:\n",
        "    # Создаем модели с текущим значением alpha\n",
        "    lasso = Lasso(alpha=alpha)\n",
        "    ridge = Ridge(alpha=alpha)\n",
        "\n",
        "    # Обучаем модели\n",
        "    lasso.fit(X_train, y_train)\n",
        "    ridge.fit(X_train, y_train)\n",
        "\n",
        "    # Считаем количество коэффициентов, которые не равны нулю\n",
        "    non_zeros_lasso.append(np.sum(np.abs(lasso.coef_) > zero_threshold))\n",
        "    non_zeros_ridge.append(np.sum(np.abs(ridge.coef_) > zero_threshold))\n",
        "\n",
        "# Построение графиков\n",
        "plt.figure(figsize=(10, 6))\n",
        "plt.plot(alphas, non_zeros_lasso, label='Lasso')\n",
        "plt.plot(alphas, non_zeros_ridge, label='Ridge')\n",
        "plt.xscale('log')\n",
        "plt.xlabel('Коэффициент регуляризации')\n",
        "plt.ylabel('Количество ненулевых коэффициентов')\n",
        "plt.title('Зависимость количества ненулевых коэффициентов от коэффициента регуляризации')\n",
        "plt.legend()\n",
        "plt.show()\n"
      ],
      "metadata": {
        "colab": {
          "base_uri": "https://localhost:8080/",
          "height": 569
        },
        "id": "D3rtu-Hik4eg",
        "outputId": "46e9de00-d173-43b1-bd47-e4d965c2400c"
      },
      "execution_count": 71,
      "outputs": [
        {
          "output_type": "display_data",
          "data": {
            "text/plain": [
              "<Figure size 1000x600 with 1 Axes>"
            ],
            "image/png": "[encoded data removed]"
          },
          "metadata": {}
        }
      ]
    },
    {
      "cell_type": "markdown",
      "source": [
        "Посчитайте для Ridge-регрессии следующие метрики: RMSE, MAE, R^2."
      ],
      "metadata": {
        "id": "lb5vFJArnVgF"
      }
    },
    {
      "cell_type": "code",
      "source": [
        "from sklearn.metrics import mean_squared_error, mean_absolute_error, r2_score\n",
        "\n",
        "# Создаем и обучаем Ridge-регрессию\n",
        "ridge_model = Ridge()\n",
        "ridge_model.fit(X_train, y_train)\n",
        "\n",
        "# Делаем предсказания на тестовой выборке\n",
        "y_pred = ridge_model.predict(X_test)\n",
        "\n",
        "# Вычисляем метрики\n",
        "rmse = mean_squared_error(y_test, y_pred, squared=False)  # squared=False для RMSE\n",
        "mae = mean_absolute_error(y_test, y_pred)\n",
        "r2 = r2_score(y_test, y_pred)\n",
        "\n",
        "print(f\"RMSE: {rmse}\")\n",
        "print(f\"MAE: {mae}\")\n",
        "print(f\"R^2: {r2}\")"
      ],
      "metadata": {
        "colab": {
          "base_uri": "https://localhost:8080/"
        },
        "id": "iCdBjW3CoSf1",
        "outputId": "9a1e74cd-cca0-45cf-f4d9-a533bba8a07f"
      },
      "execution_count": 72,
      "outputs": [
        {
          "output_type": "stream",
          "name": "stdout",
          "text": [
            "RMSE: 0.29597402595811423\n",
            "MAE: 0.18035915838749272\n",
            "R^2: 0.9173650101093074\n"
          ]
        }
      ]
    },
    {
      "cell_type": "markdown",
      "source": [
        "Подберите на обучающей выборке для Ridge-регрессии коэффициент регуляризации (перебирайте значения по логарифмической сетке от 10^−3 до 10^3 ) для каждой из метрик при помощи кросс-валидации c 5 фолдами на тех же 1000 объектах. Для этого воспользуйтесь GridSearchCV и KFold из sklearn. Постройте графики зависимости фукнции потерь от коэффициента регуляризации. Посчитайте те же метрики снова. Заметно ли изменилось качество?\n",
        "\n",
        "Для выполнения данного задания вам могут понадобиться реализованные в библиотеке объекты LassoCV, RidgeCV и KFold."
      ],
      "metadata": {
        "id": "BSJgyY9vof6A"
      }
    },
    {
      "cell_type": "code",
      "source": [
        "from sklearn.model_selection import GridSearchCV, KFold"
      ],
      "metadata": {
        "id": "Y5vJAvMqpohE"
      },
      "execution_count": 74,
      "outputs": []
    },
    {
      "cell_type": "code",
      "source": [
        "# Выборка 1000 объектов для обучения\n",
        "X_train_sample = X_train[:1000]\n",
        "y_train_sample = y_train[:1000]\n",
        "\n",
        "# Создаем объект KFold\n",
        "kf = KFold(n_splits=5, shuffle=True, random_state=42)\n",
        "\n",
        "# Задаем диапазон для коэффициента регуляризации\n",
        "alpha_range = np.logspace(-3, 3, 50)\n",
        "\n",
        "# Параметры для GridSearchCV\n",
        "param_grid = {'alpha': alpha_range}\n",
        "\n",
        "# Модель Ridge регрессии\n",
        "ridge = Ridge()\n",
        "\n",
        "# GridSearch с кросс-валидацией\n",
        "grid = GridSearchCV(ridge, param_grid, cv=kf, scoring='neg_mean_squared_error', return_train_score=True)\n",
        "grid.fit(X_train_sample, y_train_sample)\n",
        "\n",
        "# Вывод лучшего значения alpha\n",
        "print(\"Лучшее значение alpha:\", grid.best_params_['alpha'])\n",
        "\n",
        "# Результаты\n",
        "results = grid.cv_results_\n",
        "\n",
        "# Графики для RMSE\n",
        "plt.figure(figsize=(10, 5))\n",
        "plt.semilogx(results['param_alpha'].data, np.sqrt(-results['mean_train_score']), label='Training RMSE')\n",
        "plt.semilogx(results['param_alpha'].data, np.sqrt(-results['mean_test_score']), label='Validation RMSE')\n",
        "plt.xlabel('Alpha')\n",
        "plt.ylabel('RMSE')\n",
        "plt.legend()\n",
        "plt.title('Зависимость RMSE от коэффициента регуляризации')\n",
        "plt.show()\n",
        "\n",
        "# Обучаем лучшую модель\n",
        "best_ridge = grid.best_estimator_\n",
        "y_pred = best_ridge.predict(X_test)\n",
        "\n",
        "# Метрики\n",
        "rmse = mean_squared_error(y_test, y_pred, squared=False)\n",
        "mae = mean_absolute_error(y_test, y_pred)\n",
        "r2 = r2_score(y_test, y_pred)\n",
        "\n",
        "print(f\"Итоговые метрики для Ridge с оптимальным alpha:\")\n",
        "print(f\"RMSE: {rmse}\")\n",
        "print(f\"MAE: {mae}\")\n",
        "print(f\"R^2: {r2}\")"
      ],
      "metadata": {
        "colab": {
          "base_uri": "https://localhost:8080/",
          "height": 579
        },
        "id": "bW7YlAvXogjo",
        "outputId": "d857dd4e-374f-4394-89da-7572b6267232"
      },
      "execution_count": 75,
      "outputs": [
        {
          "output_type": "stream",
          "name": "stdout",
          "text": [
            "Лучшее значение alpha: 14.563484775012444\n"
          ]
        },
        {
          "output_type": "display_data",
          "data": {
            "text/plain": [
              "<Figure size 1000x500 with 1 Axes>"
            ],
            "image/png": "[encoded data removed]"
          },
          "metadata": {}
        },
        {
          "output_type": "stream",
          "name": "stdout",
          "text": [
            "Итоговые метрики для Ridge с оптимальным alpha:\n",
            "RMSE: 0.33285020862443826\n",
            "MAE: 0.18332199465065188\n",
            "R^2: 0.8954908187655204\n"
          ]
        }
      ]
    },
    {
      "cell_type": "markdown",
      "source": [
        "**14**. Поиск объектов-выбросов\n",
        "\n",
        "Как известно, MSE сильно штрафует за большие ошибки на объектах-выбросах. С помощью cross_val_predict сделайте Out-of-Fold предсказания для обучающей выборки. Посчитайте ошибки и посмотрите на их распределение (plt.hist). Что вы видите?"
      ],
      "metadata": {
        "id": "gBNwogunp64s"
      }
    },
    {
      "cell_type": "code",
      "source": [
        "from sklearn.model_selection import cross_val_predict\n",
        "from sklearn.metrics import mean_squared_error\n",
        "\n",
        "# Создание объекта для модели линейной регрессии\n",
        "model = Ridge(alpha=grid.best_params_['alpha'])\n",
        "\n",
        "# Предсказания с использованием кросс-валидации\n",
        "y_pred_oof = cross_val_predict(model, X_train, y_train, cv=kf)\n",
        "\n",
        "# Вычисление ошибок\n",
        "errors = y_train - y_pred_oof\n",
        "\n",
        "# Построение гистограммы ошибок\n",
        "plt.figure(figsize=(10, 5))\n",
        "plt.hist(errors, bins=100, alpha=0.75, color='blue', edgecolor='black')\n",
        "plt.xlabel('Ошибки предсказания')\n",
        "plt.ylabel('Количество')\n",
        "plt.title('Распределение ошибок предсказания')\n",
        "plt.grid(True)\n",
        "plt.show()\n",
        "\n",
        "# Вычисление MSE\n",
        "mse = mean_squared_error(y_train, y_pred_oof)\n",
        "print(f\"MSE: {mse}\")\n"
      ],
      "metadata": {
        "colab": {
          "base_uri": "https://localhost:8080/",
          "height": 504
        },
        "id": "49Z10O7-p8K6",
        "outputId": "59cd1970-f690-4ca9-dace-48a3497b6457"
      },
      "execution_count": 76,
      "outputs": [
        {
          "output_type": "display_data",
          "data": {
            "text/plain": [
              "<Figure size 1000x500 with 1 Axes>"
            ],
            "image/png": "[encoded data removed]"
          },
          "metadata": {}
        },
        {
          "output_type": "stream",
          "name": "stdout",
          "text": [
            "MSE: 0.08995557570620982\n"
          ]
        }
      ]
    },
    {
      "cell_type": "markdown",
      "source": [
        "**Ответ:**\n",
        "\n",
        "Полученное значение MSE, равное приблизительно 0.09, свидетельствует о том, что средняя квадратичная ошибка предсказаний модели относительно истинных значений не очень велика, что может быть хорошим знаком в контексте использованной модели и данных."
      ],
      "metadata": {
        "id": "-TRf-Mq3rQcC"
      }
    }
  ]
}