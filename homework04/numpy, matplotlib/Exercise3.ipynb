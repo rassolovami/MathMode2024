{
  "nbformat": 4,
  "nbformat_minor": 0,
  "metadata": {
    "colab": {
      "provenance": []
    },
    "kernelspec": {
      "name": "python3",
      "display_name": "Python 3"
    },
    "language_info": {
      "name": "python"
    }
  },
  "cells": [
    {
      "cell_type": "markdown",
      "source": [
        "**Рассолова Маргарита Сергеевна, НММбд-02-22**"
      ],
      "metadata": {
        "id": "gZtRR9O5HpfJ"
      }
    },
    {
      "cell_type": "markdown",
      "source": [
        "1. Вычислите cos(x) и sin(x) на интервале [0,1] с шагом 0.05, а затем объедините оба массива чисел как строки в один массив."
      ],
      "metadata": {
        "id": "gJb26IF8Hv11"
      }
    },
    {
      "cell_type": "code",
      "source": [
        "import numpy as np"
      ],
      "metadata": {
        "id": "YQ8W7C6QH5GS"
      },
      "execution_count": 1,
      "outputs": []
    },
    {
      "cell_type": "code",
      "source": [
        "x_values = np.arange(0, 1.05, 0.05)"
      ],
      "metadata": {
        "id": "bT8hdRyUH7ki"
      },
      "execution_count": 2,
      "outputs": []
    },
    {
      "cell_type": "code",
      "source": [
        "cos_values = np.cos(x_values)\n",
        "sin_values = np.sin(x_values)"
      ],
      "metadata": {
        "id": "d4BCYSGFH92i"
      },
      "execution_count": 3,
      "outputs": []
    },
    {
      "cell_type": "code",
      "source": [
        "array = np.column_stack((cos_values, sin_values))"
      ],
      "metadata": {
        "id": "fMTSnijoIAa3"
      },
      "execution_count": 4,
      "outputs": []
    },
    {
      "cell_type": "code",
      "source": [
        "print(array)"
      ],
      "metadata": {
        "colab": {
          "base_uri": "https://localhost:8080/"
        },
        "id": "HDdgFWmqIFKM",
        "outputId": "60463d85-d748-4b3b-af44-2d23930d0e69"
      },
      "execution_count": 5,
      "outputs": [
        {
          "output_type": "stream",
          "name": "stdout",
          "text": [
            "[[1.         0.        ]\n",
            " [0.99875026 0.04997917]\n",
            " [0.99500417 0.09983342]\n",
            " [0.98877108 0.14943813]\n",
            " [0.98006658 0.19866933]\n",
            " [0.96891242 0.24740396]\n",
            " [0.95533649 0.29552021]\n",
            " [0.93937271 0.34289781]\n",
            " [0.92106099 0.38941834]\n",
            " [0.9004471  0.43496553]\n",
            " [0.87758256 0.47942554]\n",
            " [0.85252452 0.52268723]\n",
            " [0.82533561 0.56464247]\n",
            " [0.7960838  0.60518641]\n",
            " [0.76484219 0.64421769]\n",
            " [0.73168887 0.68163876]\n",
            " [0.69670671 0.71735609]\n",
            " [0.65998315 0.75128041]\n",
            " [0.62160997 0.78332691]\n",
            " [0.58168309 0.8134155 ]\n",
            " [0.54030231 0.84147098]]\n"
          ]
        }
      ]
    },
    {
      "cell_type": "markdown",
      "source": [
        "2. Создайте случайный массив 3×5 с помощью функции np.random.rand(3, 5) и вычислите: сумму всех элементов, сумму строк и сумму столбцов. (Подобно тому, как sorted имеет необязательный аргумент key=, многие функции Numpy имеют необязательный аргумент axis=)"
      ],
      "metadata": {
        "id": "jzQhztS4IHnV"
      }
    },
    {
      "cell_type": "code",
      "source": [
        "import numpy as np"
      ],
      "metadata": {
        "id": "OWltKsA1IKhR"
      },
      "execution_count": 6,
      "outputs": []
    },
    {
      "cell_type": "code",
      "source": [
        "random_array = np.random.rand(3, 5)"
      ],
      "metadata": {
        "id": "Z_XaeJDOIR7N"
      },
      "execution_count": 7,
      "outputs": []
    },
    {
      "cell_type": "code",
      "source": [
        "total_sum = np.sum(random_array) # сумма всех элементов"
      ],
      "metadata": {
        "id": "LuVsc_O9IVLU"
      },
      "execution_count": 8,
      "outputs": []
    },
    {
      "cell_type": "code",
      "source": [
        "# Сумма строк и столбцов\n",
        "\n",
        "row_sums = np.sum(random_array, axis=1)\n",
        "column_sums = np.sum(random_array, axis=0)"
      ],
      "metadata": {
        "id": "EahGV_1KIbCB"
      },
      "execution_count": 9,
      "outputs": []
    },
    {
      "cell_type": "code",
      "source": [
        "print(\"Случайный массив:\")\n",
        "print(random_array)\n",
        "print(\"\\nСумма всех элементов:\", total_sum)\n",
        "print(\"Суммы по строкам:\", row_sums)\n",
        "print(\"Суммы по столбцам:\", column_sums)"
      ],
      "metadata": {
        "colab": {
          "base_uri": "https://localhost:8080/"
        },
        "id": "tycYPk3dIiBx",
        "outputId": "c4208bc6-c823-45a1-da55-9a9aeb09649f"
      },
      "execution_count": 10,
      "outputs": [
        {
          "output_type": "stream",
          "name": "stdout",
          "text": [
            "Случайный массив:\n",
            "[[0.89829974 0.43047171 0.0844071  0.70669686 0.50007142]\n",
            " [0.59471089 0.8296476  0.55265497 0.57444965 0.6626554 ]\n",
            " [0.54909645 0.99944634 0.28822105 0.55912986 0.17931194]]\n",
            "\n",
            "Сумма всех элементов: 8.409270964304227\n",
            "Суммы по строкам: [2.61994682 3.21411851 2.57520564]\n",
            "Суммы по столбцам: [2.04210708 2.25956565 0.92528312 1.84027636 1.34203875]\n"
          ]
        }
      ]
    },
    {
      "cell_type": "markdown",
      "source": [
        "3. Создайте случайный массив 5×5, используя функцию np.random.rand(5, 5). Отсортируйте строки по второму столбцу. Используйте для этого slicing + argsort + indexing."
      ],
      "metadata": {
        "id": "8fmSm4KpImU3"
      }
    },
    {
      "cell_type": "code",
      "source": [
        "import numpy as np"
      ],
      "metadata": {
        "id": "ZZLfNkPPIpUb"
      },
      "execution_count": 11,
      "outputs": []
    },
    {
      "cell_type": "code",
      "source": [
        "random_array = np.random.rand(5, 5)"
      ],
      "metadata": {
        "id": "mrO2no18IxGK"
      },
      "execution_count": 12,
      "outputs": []
    },
    {
      "cell_type": "code",
      "source": [
        "sorted_indices = np.argsort(random_array[:, 1])\n",
        "sorted_array = random_array[sorted_indices]"
      ],
      "metadata": {
        "id": "kOj-QUl5I0Hu"
      },
      "execution_count": 13,
      "outputs": []
    },
    {
      "cell_type": "code",
      "source": [
        "print(\"\\nОтсортированный массив по второму столбцу:\")\n",
        "print(sorted_array)"
      ],
      "metadata": {
        "colab": {
          "base_uri": "https://localhost:8080/"
        },
        "id": "Kyjp79T8I2x-",
        "outputId": "c8009b66-791d-413f-88da-456960f4e11b"
      },
      "execution_count": 14,
      "outputs": [
        {
          "output_type": "stream",
          "name": "stdout",
          "text": [
            "\n",
            "Отсортированный массив по второму столбцу:\n",
            "[[0.49796526 0.21462668 0.32489338 0.80169601 0.78022247]\n",
            " [0.47566426 0.29087583 0.37090132 0.77298711 0.91229439]\n",
            " [0.35592146 0.48775551 0.17570487 0.27065123 0.23458433]\n",
            " [0.00226744 0.86449587 0.5784104  0.99689559 0.00147814]\n",
            " [0.80637791 0.99042043 0.88827174 0.62811648 0.57712037]]\n"
          ]
        }
      ]
    },
    {
      "cell_type": "markdown",
      "source": [
        "4. Посчитайте две матрицы: B=A^T*A и C=A*A^T. Что вы можете о них сказать? Какого они размера? В чём их сходство и отличие? Найдите сумму диагональных элементов матриц B и C. Посчитайте детерминант и ранг матриц A, B и C, посмотрите на спектр (набор собственных значений) матриц B и C, какие выводы вы можете сделать? (подсказка: используйте готовые функции из библиотеки np.linalg)."
      ],
      "metadata": {
        "id": "y8D6vCuAI6bF"
      }
    },
    {
      "cell_type": "code",
      "source": [
        "import numpy as np"
      ],
      "metadata": {
        "id": "3AYcLeb1JO34"
      },
      "execution_count": 23,
      "outputs": []
    },
    {
      "cell_type": "code",
      "source": [
        "A = np.random.rand(3, 4)"
      ],
      "metadata": {
        "id": "sP5K_OHAJPxS"
      },
      "execution_count": 24,
      "outputs": []
    },
    {
      "cell_type": "code",
      "source": [
        "B = np.dot(A.T, A) # B = A^T * A"
      ],
      "metadata": {
        "id": "zaDF1PvLJVgV"
      },
      "execution_count": 25,
      "outputs": []
    },
    {
      "cell_type": "code",
      "source": [
        "C = np.dot(A, A.T) # C = A * A^T"
      ],
      "metadata": {
        "id": "ZYT6sro0JYw2"
      },
      "execution_count": 26,
      "outputs": []
    },
    {
      "cell_type": "code",
      "source": [
        "print(\"Матрица B:\")\n",
        "print(B)\n",
        "print(\"\\nМатрица C:\")\n",
        "print(C)"
      ],
      "metadata": {
        "colab": {
          "base_uri": "https://localhost:8080/"
        },
        "id": "4KUagDV9JdvB",
        "outputId": "c195b174-5b1d-498d-d9b5-02dc100945fe"
      },
      "execution_count": 27,
      "outputs": [
        {
          "output_type": "stream",
          "name": "stdout",
          "text": [
            "Матрица B:\n",
            "[[0.55775715 0.20554374 0.11882124 0.71576481]\n",
            " [0.20554374 0.97768812 0.31946136 0.47651891]\n",
            " [0.11882124 0.31946136 0.11811211 0.20862671]\n",
            " [0.71576481 0.47651891 0.20862671 0.9779496 ]]\n",
            "\n",
            "Матрица C:\n",
            "[[0.6499763  0.59977169 0.13298043]\n",
            " [0.59977169 0.87837174 0.69072112]\n",
            " [0.13298043 0.69072112 1.10315894]]\n"
          ]
        }
      ]
    },
    {
      "cell_type": "code",
      "source": [
        "# Сумма диагональных элементов матриц B и C\n",
        "sum_diagonal_B = np.trace(B)\n",
        "sum_diagonal_C = np.trace(C)"
      ],
      "metadata": {
        "id": "AjH4igkGJjTZ"
      },
      "execution_count": 28,
      "outputs": []
    },
    {
      "cell_type": "code",
      "source": [
        "print(\"\\nСумма диагональных элементов матрицы B:\", sum_diagonal_B)\n",
        "print(\"Сумма диагональных элементов матрицы C:\", sum_diagonal_C)\n"
      ],
      "metadata": {
        "colab": {
          "base_uri": "https://localhost:8080/"
        },
        "id": "f659UaDwJpze",
        "outputId": "3b0ac7ee-a776-421b-ea0d-e208cb7e6082"
      },
      "execution_count": 29,
      "outputs": [
        {
          "output_type": "stream",
          "name": "stdout",
          "text": [
            "\n",
            "Сумма диагональных элементов матрицы B: 2.6315069751942044\n",
            "Сумма диагональных элементов матрицы C: 2.6315069751942044\n"
          ]
        }
      ]
    },
    {
      "cell_type": "markdown",
      "source": [
        "Находим детерминант и ранг матриц B и C"
      ],
      "metadata": {
        "id": "utR7HUKYJxL7"
      }
    },
    {
      "cell_type": "code",
      "source": [
        "det_B = np.linalg.det(B)\n",
        "rang_B = np.linalg.matrix_rank(B)\n",
        "\n",
        "det_C = np.linalg.det(C)\n",
        "rang_C = np.linalg.matrix_rank(C)\n"
      ],
      "metadata": {
        "id": "0vITM83YJzTl"
      },
      "execution_count": 33,
      "outputs": []
    },
    {
      "cell_type": "code",
      "source": [
        "print(\"\\nДетерминант и ранг матрицы B:\", det_B, rank_B)\n",
        "print(\"Детерминант и ранг матрицы C:\", det_C, rank_C)\n"
      ],
      "metadata": {
        "colab": {
          "base_uri": "https://localhost:8080/"
        },
        "id": "U4LXQmDoKoQb",
        "outputId": "0494a329-e6d2-4971-c26a-ecbbf22d18bb"
      },
      "execution_count": 34,
      "outputs": [
        {
          "output_type": "stream",
          "name": "stdout",
          "text": [
            "\n",
            "Детерминант и ранг матрицы B: 0.0 3\n",
            "Детерминант и ранг матрицы C: 0.017528464933907608 3\n"
          ]
        }
      ]
    },
    {
      "cell_type": "code",
      "source": [
        "# Спектр (собственные значения) матриц B и C\n",
        "eigenvalues_B = np.linalg.eigvals(B)\n",
        "eigenvalues_C = np.linalg.eigvals(C)"
      ],
      "metadata": {
        "id": "QxQs1ohyKuvS"
      },
      "execution_count": 35,
      "outputs": []
    },
    {
      "cell_type": "code",
      "source": [
        "print(\"\\nСпектр матрицы B (собственные значения):\", eigenvalues_B)\n",
        "print(\"Спектр матрицы C (собственные значения):\", eigenvalues_C)"
      ],
      "metadata": {
        "colab": {
          "base_uri": "https://localhost:8080/"
        },
        "id": "pAt1GiwhKzLp",
        "outputId": "cb645e7b-ac2c-4723-e3d0-ec55cbbcfa94"
      },
      "execution_count": 36,
      "outputs": [
        {
          "output_type": "stream",
          "name": "stdout",
          "text": [
            "\n",
            "Спектр матрицы B (собственные значения): [ 1.89714883e+00  7.21553310e-01 -8.30439142e-18  1.28048371e-02]\n",
            "Спектр матрицы C (собственные значения): [1.89714883 0.72155331 0.01280484]\n"
          ]
        }
      ]
    }
  ]
}