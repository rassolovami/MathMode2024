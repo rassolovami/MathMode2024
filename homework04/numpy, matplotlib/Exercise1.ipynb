{
  "nbformat": 4,
  "nbformat_minor": 0,
  "metadata": {
    "colab": {
      "provenance": []
    },
    "kernelspec": {
      "name": "python3",
      "display_name": "Python 3"
    },
    "language_info": {
      "name": "python"
    }
  },
  "cells": [
    {
      "cell_type": "markdown",
      "source": [
        "**Рассолова Маргарита Сергеевна, НММбд-02-22**"
      ],
      "metadata": {
        "id": "Er09bbmW4bj5"
      }
    },
    {
      "cell_type": "markdown",
      "source": [
        "1. Создайте равномерное разбиение интервала от -1.3 до 2.5 на 64 отрезка.\n",
        "\n"
      ],
      "metadata": {
        "id": "DopYneEi4--p"
      }
    },
    {
      "cell_type": "code",
      "source": [
        "import numpy as np\n",
        "import matplotlib.pyplot as plt"
      ],
      "metadata": {
        "id": "SYQQlM2G5DGx"
      },
      "execution_count": 52,
      "outputs": []
    },
    {
      "cell_type": "code",
      "source": [
        "# Параметры\n",
        "start = -1.3\n",
        "end = 2.5\n",
        "num_segments = 64 # количество отрезков"
      ],
      "metadata": {
        "id": "cLNtlx3V50hC"
      },
      "execution_count": 53,
      "outputs": []
    },
    {
      "cell_type": "code",
      "source": [
        "# Равномерное разбиение\n",
        "interval = np.linspace(start, end, num_segments + 1)"
      ],
      "metadata": {
        "id": "gZ6RRyeg6IjJ"
      },
      "execution_count": 54,
      "outputs": []
    },
    {
      "cell_type": "code",
      "source": [
        "# График\n",
        "plt.figure(figsize=(15, 1))\n",
        "plt.plot(interval, np.zeros_like(interval), marker='o', markersize=4, linestyle='-', color='b')\n",
        "plt.title('Равномерное разбиение интервала')\n",
        "plt.xlabel('Значения на интервале')\n",
        "plt.yticks([])\n",
        "plt.show()"
      ],
      "metadata": {
        "colab": {
          "base_uri": "https://localhost:8080/",
          "height": 179
        },
        "id": "NeSMXJ-76q45",
        "outputId": "5f18b017-2d1f-418c-e6a3-e6119b13160d"
      },
      "execution_count": 55,
      "outputs": [
        {
          "output_type": "display_data",
          "data": {
            "text/plain": [
              "<Figure size 1500x100 with 1 Axes>"
            ],
            "image/png": "[encoded data removed]"
          },
          "metadata": {}
        }
      ]
    },
    {
      "cell_type": "markdown",
      "source": [
        "2. Сгенерировать numpy массив длины 3n, заполненный циклически числами 1, 2, 3, 1, 2, 3, 1...."
      ],
      "metadata": {
        "id": "kbCa_055763B"
      }
    },
    {
      "cell_type": "code",
      "source": [
        "import numpy as np\n",
        "import random"
      ],
      "metadata": {
        "id": "9A2-SknZ8N_A"
      },
      "execution_count": 56,
      "outputs": []
    },
    {
      "cell_type": "code",
      "source": [
        "# Генерация случайного значения n\n",
        "n = random.randint(1, 100)\n",
        "array_length = 3 * n"
      ],
      "metadata": {
        "id": "QnSkJKWp9RWZ"
      },
      "execution_count": 57,
      "outputs": []
    },
    {
      "cell_type": "code",
      "source": [
        "array = np.tile([1, 2, 3], n)[:array_length]"
      ],
      "metadata": {
        "id": "zWbGSv7g9XZv"
      },
      "execution_count": 58,
      "outputs": []
    },
    {
      "cell_type": "code",
      "source": [
        "print(\"Случайное значение n:\", n)\n",
        "print(\"Массив:\", array)"
      ],
      "metadata": {
        "colab": {
          "base_uri": "https://localhost:8080/"
        },
        "id": "05hdm_ca9bYN",
        "outputId": "21cf053a-19d4-4548-ee35-24101666e38d"
      },
      "execution_count": 59,
      "outputs": [
        {
          "output_type": "stream",
          "name": "stdout",
          "text": [
            "Случайное значение n: 7\n",
            "Массив: [1 2 3 1 2 3 1 2 3 1 2 3 1 2 3 1 2 3 1 2 3]\n"
          ]
        }
      ]
    },
    {
      "cell_type": "markdown",
      "source": [
        "3. Создайте массив первых 10 нечетных целых чисел."
      ],
      "metadata": {
        "id": "tf6RqIyi90SG"
      }
    },
    {
      "cell_type": "code",
      "source": [
        "import numpy as np"
      ],
      "metadata": {
        "id": "mMsEfAwT93t5"
      },
      "execution_count": 60,
      "outputs": []
    },
    {
      "cell_type": "code",
      "source": [
        "numbers = np.arange(1, 20, step=2) # Шаг = 2, т.к. требуются нечетные числа"
      ],
      "metadata": {
        "id": "X9mFpne09_Mc"
      },
      "execution_count": 61,
      "outputs": []
    },
    {
      "cell_type": "code",
      "source": [
        "print(\"Массив первых 10 нечетных целых чисел:\", numbers)"
      ],
      "metadata": {
        "colab": {
          "base_uri": "https://localhost:8080/"
        },
        "id": "FHQYTxmT-BdC",
        "outputId": "829ff0e4-3d0b-4b66-ba70-e30510befc87"
      },
      "execution_count": 62,
      "outputs": [
        {
          "output_type": "stream",
          "name": "stdout",
          "text": [
            "Массив первых 10 нечетных целых чисел: [ 1  3  5  7  9 11 13 15 17 19]\n"
          ]
        }
      ]
    },
    {
      "cell_type": "markdown",
      "source": [
        "4. Создайте массив нулей размера 10 x 10, а затем создайте в нём \"рамку\" из единиц по краям."
      ],
      "metadata": {
        "id": "Pa6z9vy_-OJK"
      }
    },
    {
      "cell_type": "code",
      "source": [
        "import numpy as np"
      ],
      "metadata": {
        "id": "jRrplCHr-S56"
      },
      "execution_count": 63,
      "outputs": []
    },
    {
      "cell_type": "code",
      "source": [
        "# Массив нулей\n",
        "array = np.zeros((10, 10))"
      ],
      "metadata": {
        "id": "Tsuf7iQb-cYF"
      },
      "execution_count": 64,
      "outputs": []
    },
    {
      "cell_type": "code",
      "source": [
        "# Рамка из единиц\n",
        "array[0, :] = 1  # верхняя граница\n",
        "array[-1, :] = 1  # нижняя граница\n",
        "array[:, 0] = 1  # левая граница\n",
        "array[:, -1] = 1  # правая граница\n"
      ],
      "metadata": {
        "id": "B5LA8gGz-mwJ"
      },
      "execution_count": 65,
      "outputs": []
    },
    {
      "cell_type": "code",
      "source": [
        "print(\"Массив с рамкой из единиц:\\n\", array)"
      ],
      "metadata": {
        "colab": {
          "base_uri": "https://localhost:8080/"
        },
        "id": "8XsH145O-wE9",
        "outputId": "75c4da6f-c0a9-4dfe-f2d2-b0d8831e44c7"
      },
      "execution_count": 66,
      "outputs": [
        {
          "output_type": "stream",
          "name": "stdout",
          "text": [
            "Массив с рамкой из единиц:\n",
            " [[1. 1. 1. 1. 1. 1. 1. 1. 1. 1.]\n",
            " [1. 0. 0. 0. 0. 0. 0. 0. 0. 1.]\n",
            " [1. 0. 0. 0. 0. 0. 0. 0. 0. 1.]\n",
            " [1. 0. 0. 0. 0. 0. 0. 0. 0. 1.]\n",
            " [1. 0. 0. 0. 0. 0. 0. 0. 0. 1.]\n",
            " [1. 0. 0. 0. 0. 0. 0. 0. 0. 1.]\n",
            " [1. 0. 0. 0. 0. 0. 0. 0. 0. 1.]\n",
            " [1. 0. 0. 0. 0. 0. 0. 0. 0. 1.]\n",
            " [1. 0. 0. 0. 0. 0. 0. 0. 0. 1.]\n",
            " [1. 1. 1. 1. 1. 1. 1. 1. 1. 1.]]\n"
          ]
        }
      ]
    },
    {
      "cell_type": "markdown",
      "source": [
        "5. Создайте массив 8 x 8 с шахматной доской из нулей и единиц."
      ],
      "metadata": {
        "id": "pg4E1mE_-3KG"
      }
    },
    {
      "cell_type": "code",
      "source": [
        "import numpy as np"
      ],
      "metadata": {
        "id": "ZYmBIZrH_GRy"
      },
      "execution_count": 67,
      "outputs": []
    },
    {
      "cell_type": "code",
      "source": [
        "# Массив 8 x 8 из нулей и единиц\n",
        "chessboard = np.zeros((8, 8), dtype=int)"
      ],
      "metadata": {
        "id": "_O7Pe6ZN_HVd"
      },
      "execution_count": 68,
      "outputs": []
    },
    {
      "cell_type": "code",
      "source": [
        "# Шахматная доска\n",
        "chessboard[1::2, ::2] = 1  # черные клетки\n",
        "chessboard[::2, 1::2] = 1  # белые клетки"
      ],
      "metadata": {
        "id": "kjQ5CHXU_RQc"
      },
      "execution_count": 69,
      "outputs": []
    },
    {
      "cell_type": "code",
      "source": [
        "print(\"Шахматная доска из нулей и единиц:\\n\", chessboard)"
      ],
      "metadata": {
        "colab": {
          "base_uri": "https://localhost:8080/"
        },
        "id": "GvyD0lDv_OC-",
        "outputId": "36bcb69a-f90f-4065-f269-4a3fd3fd2120"
      },
      "execution_count": 70,
      "outputs": [
        {
          "output_type": "stream",
          "name": "stdout",
          "text": [
            "Шахматная доска из нулей и единиц:\n",
            " [[0 1 0 1 0 1 0 1]\n",
            " [1 0 1 0 1 0 1 0]\n",
            " [0 1 0 1 0 1 0 1]\n",
            " [1 0 1 0 1 0 1 0]\n",
            " [0 1 0 1 0 1 0 1]\n",
            " [1 0 1 0 1 0 1 0]\n",
            " [0 1 0 1 0 1 0 1]\n",
            " [1 0 1 0 1 0 1 0]]\n"
          ]
        }
      ]
    },
    {
      "cell_type": "markdown",
      "source": [
        "6. Создайте функцию, которая создает n×n матрицу с (i,j)-элементом, равным i+j."
      ],
      "metadata": {
        "id": "9HEFGnCS_lp0"
      }
    },
    {
      "cell_type": "code",
      "source": [
        "import numpy as np\n",
        "import random\n"
      ],
      "metadata": {
        "id": "pYHWCmiN_naD"
      },
      "execution_count": 71,
      "outputs": []
    },
    {
      "cell_type": "code",
      "source": [
        "def matrix(n):\n",
        "    matrix = np.fromfunction(lambda i, j: i + j, (n, n), dtype=int)\n",
        "    return matrix"
      ],
      "metadata": {
        "id": "_n3M19I1_uMG"
      },
      "execution_count": 72,
      "outputs": []
    },
    {
      "cell_type": "code",
      "source": [
        "n = random.randint(1, 100)\n",
        "matrix = matrix(n)"
      ],
      "metadata": {
        "id": "dbVFd3rL_1WG"
      },
      "execution_count": 73,
      "outputs": []
    },
    {
      "cell_type": "code",
      "source": [
        "print(f\"{n} x {n} матрица с элементами i + j:\\n\", matrix)"
      ],
      "metadata": {
        "colab": {
          "base_uri": "https://localhost:8080/"
        },
        "id": "dpTvrx5oAAUu",
        "outputId": "ecd10591-a508-40c2-88e7-ad95f2c61a3f"
      },
      "execution_count": 74,
      "outputs": [
        {
          "output_type": "stream",
          "name": "stdout",
          "text": [
            "42 x 42 матрица с элементами i + j:\n",
            " [[ 0  1  2 ... 39 40 41]\n",
            " [ 1  2  3 ... 40 41 42]\n",
            " [ 2  3  4 ... 41 42 43]\n",
            " ...\n",
            " [39 40 41 ... 78 79 80]\n",
            " [40 41 42 ... 79 80 81]\n",
            " [41 42 43 ... 80 81 82]]\n"
          ]
        }
      ]
    }
  ]
}