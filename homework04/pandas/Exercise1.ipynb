{
  "nbformat": 4,
  "nbformat_minor": 0,
  "metadata": {
    "colab": {
      "provenance": []
    },
    "kernelspec": {
      "name": "python3",
      "display_name": "Python 3"
    },
    "language_info": {
      "name": "python"
    }
  },
  "cells": [
    {
      "cell_type": "markdown",
      "source": [
        "**Рассолова Маргарита Сергеевна, НММбд-02-22**"
      ],
      "metadata": {
        "id": "iB9Rauy0WOYQ"
      }
    },
    {
      "cell_type": "code",
      "source": [
        "import pandas as pd"
      ],
      "metadata": {
        "id": "x8GJxPJ2WUYr"
      },
      "execution_count": 3,
      "outputs": []
    },
    {
      "cell_type": "markdown",
      "source": [
        "1. Откройте файл с таблицей. Выведите последние 10 строк."
      ],
      "metadata": {
        "id": "5Ez_XiqsWZ1r"
      }
    },
    {
      "cell_type": "code",
      "source": [
        "file= 'chipotle.tsv'"
      ],
      "metadata": {
        "id": "qfWFTJrsWhEv"
      },
      "execution_count": 4,
      "outputs": []
    },
    {
      "cell_type": "code",
      "source": [
        "df = pd.read_csv(file, sep='\\t') # Загрузка данных из файла в DataFrame"
      ],
      "metadata": {
        "id": "4Gu8XirDWp0c"
      },
      "execution_count": 6,
      "outputs": []
    },
    {
      "cell_type": "code",
      "source": [
        "last_10_orders = df.tail(10)"
      ],
      "metadata": {
        "id": "cq3kH7y7YZmo"
      },
      "execution_count": 7,
      "outputs": []
    },
    {
      "cell_type": "code",
      "source": [
        "print(last_10_orders)"
      ],
      "metadata": {
        "colab": {
          "base_uri": "https://localhost:8080/"
        },
        "id": "GxEVewXOWv-4",
        "outputId": "68aa21cc-e913-4b87-b3e7-a719a997a9f1"
      },
      "execution_count": 8,
      "outputs": [
        {
          "output_type": "stream",
          "name": "stdout",
          "text": [
            "      order_id  quantity            item_name  \\\n",
            "4612      1831         1        Carnitas Bowl   \n",
            "4613      1831         1                Chips   \n",
            "4614      1831         1        Bottled Water   \n",
            "4615      1832         1   Chicken Soft Tacos   \n",
            "4616      1832         1  Chips and Guacamole   \n",
            "4617      1833         1        Steak Burrito   \n",
            "4618      1833         1        Steak Burrito   \n",
            "4619      1834         1   Chicken Salad Bowl   \n",
            "4620      1834         1   Chicken Salad Bowl   \n",
            "4621      1834         1   Chicken Salad Bowl   \n",
            "\n",
            "                                     choice_description item_price  \n",
            "4612  [Fresh Tomato Salsa, [Fajita Vegetables, Rice,...     $9.25   \n",
            "4613                                                NaN     $2.15   \n",
            "4614                                                NaN     $1.50   \n",
            "4615   [Fresh Tomato Salsa, [Rice, Cheese, Sour Cream]]     $8.75   \n",
            "4616                                                NaN     $4.45   \n",
            "4617  [Fresh Tomato Salsa, [Rice, Black Beans, Sour ...    $11.75   \n",
            "4618  [Fresh Tomato Salsa, [Rice, Sour Cream, Cheese...    $11.75   \n",
            "4619  [Fresh Tomato Salsa, [Fajita Vegetables, Pinto...    $11.25   \n",
            "4620  [Fresh Tomato Salsa, [Fajita Vegetables, Lettu...     $8.75   \n",
            "4621  [Fresh Tomato Salsa, [Fajita Vegetables, Pinto...     $8.75   \n"
          ]
        }
      ]
    },
    {
      "cell_type": "markdown",
      "source": [
        "Посмотрите на данные и скажите, что они из себя представляют, сколько в таблице строк, какие столбцы?"
      ],
      "metadata": {
        "id": "oU4iWK9vW7Mc"
      }
    },
    {
      "cell_type": "markdown",
      "source": [
        "- Данные состоят из id продукта, его количества, названия, состава и цены."
      ],
      "metadata": {
        "id": "wgkyre4oW8qf"
      }
    },
    {
      "cell_type": "markdown",
      "source": [
        "2. Ответьте на вопросы:\n",
        "Сколько заказов попало в выборку?\n",
        "Сколько уникальных категорий товара было куплено? (item_name)"
      ],
      "metadata": {
        "id": "cv6C_HNpXtML"
      }
    },
    {
      "cell_type": "code",
      "source": [
        "total_orders_last_10 = last_10_orders['order_id'].nunique()\n"
      ],
      "metadata": {
        "id": "R9OLSxEDX0Ij"
      },
      "execution_count": 9,
      "outputs": []
    },
    {
      "cell_type": "code",
      "source": [
        "unique_categories_last_10 = last_10_orders['item_name'].nunique()"
      ],
      "metadata": {
        "id": "cLgqpvUOX64j"
      },
      "execution_count": 10,
      "outputs": []
    },
    {
      "cell_type": "code",
      "source": [
        "print(f\"Количество заказов в последних 10 строках: {total_orders_last_10}\")\n",
        "print(f\"Количество уникальных категорий товара в последних 10 строках: {unique_categories_last_10}\")"
      ],
      "metadata": {
        "colab": {
          "base_uri": "https://localhost:8080/"
        },
        "id": "xo1EWC0tX98c",
        "outputId": "b6781a06-e9d4-46cb-8223-1832a8805f59"
      },
      "execution_count": 11,
      "outputs": [
        {
          "output_type": "stream",
          "name": "stdout",
          "text": [
            "Количество заказов в последних 10 строках: 4\n",
            "Количество уникальных категорий товара в последних 10 строках: 7\n"
          ]
        }
      ]
    },
    {
      "cell_type": "markdown",
      "source": [
        "3.  Есть ли в данных пропуски? В каких колонках?"
      ],
      "metadata": {
        "id": "hsbbhkmwY1va"
      }
    },
    {
      "cell_type": "code",
      "source": [
        "columns_with_nulls = df.columns[df.isnull().any()]"
      ],
      "metadata": {
        "id": "qaVHl_tcY3LE"
      },
      "execution_count": 12,
      "outputs": []
    },
    {
      "cell_type": "code",
      "source": [
        "print(\"Колонки с пропусками:\", columns_with_nulls)"
      ],
      "metadata": {
        "colab": {
          "base_uri": "https://localhost:8080/"
        },
        "id": "irWy3oDhZAc_",
        "outputId": "1892147d-9cd5-4729-e943-26f493a25f28"
      },
      "execution_count": 13,
      "outputs": [
        {
          "output_type": "stream",
          "name": "stdout",
          "text": [
            "Колонки с пропусками: Index(['choice_description'], dtype='object')\n"
          ]
        }
      ]
    },
    {
      "cell_type": "markdown",
      "source": [
        "Заполните пропуски пустой строкой для строковых колонок и нулём для числовых."
      ],
      "metadata": {
        "id": "YK80pBu3ZGhs"
      }
    },
    {
      "cell_type": "code",
      "source": [
        "df.fillna({'column_name_1': '', 'column_name_2': 0}, inplace=True)"
      ],
      "metadata": {
        "id": "FW4X0deEZHEu"
      },
      "execution_count": 14,
      "outputs": []
    },
    {
      "cell_type": "markdown",
      "source": [
        "4. Посмотрите внимательнее на колонку с ценой товара. Какого она типа? Создайте новую колонку так, чтобы в ней цена была числом."
      ],
      "metadata": {
        "id": "JccHhEYpZQI5"
      }
    },
    {
      "cell_type": "markdown",
      "source": [
        "Для этого попробуйте применить функцию-преобразование к каждой строке вашей таблицы (для этого есть соответствующая функция)."
      ],
      "metadata": {
        "id": "5BTpEJRLZSHK"
      }
    },
    {
      "cell_type": "code",
      "source": [
        "df['item_price'] = pd.to_numeric(df['item_price'].str.replace('$', ''), errors='coerce')"
      ],
      "metadata": {
        "colab": {
          "base_uri": "https://localhost:8080/"
        },
        "id": "pcZzuaGHZcJ9",
        "outputId": "40e554dc-8fc4-45a2-c090-55b114eaa08a"
      },
      "execution_count": 15,
      "outputs": [
        {
          "output_type": "stream",
          "name": "stderr",
          "text": [
            "<ipython-input-15-f192e3e496a9>:1: FutureWarning: The default value of regex will change from True to False in a future version. In addition, single character regular expressions will *not* be treated as literal strings when regex=True.\n",
            "  df['item_price'] = pd.to_numeric(df['item_price'].str.replace('$', ''), errors='coerce')\n"
          ]
        }
      ]
    },
    {
      "cell_type": "markdown",
      "source": [
        "Какая средняя/минимальная/максимальная цена у товара?"
      ],
      "metadata": {
        "id": "jtzsE9rrZr4E"
      }
    },
    {
      "cell_type": "code",
      "source": [
        "# Средняя цена товара\n",
        "average_price = df['item_price'].mean()"
      ],
      "metadata": {
        "id": "umWWoFSAZubQ"
      },
      "execution_count": 16,
      "outputs": []
    },
    {
      "cell_type": "code",
      "source": [
        "# Минимальная цена товара\n",
        "min_price = df['item_price'].min()"
      ],
      "metadata": {
        "id": "R2LPI-dKZyh9"
      },
      "execution_count": 17,
      "outputs": []
    },
    {
      "cell_type": "code",
      "source": [
        "# Максимальная цена товара\n",
        "max_price = df['item_price'].max()"
      ],
      "metadata": {
        "id": "kAnT3JxsZ0Sf"
      },
      "execution_count": 18,
      "outputs": []
    },
    {
      "cell_type": "code",
      "source": [
        "print(f\"Средняя цена: {average_price:.2f}\")\n",
        "print(f\"Минимальная цена: {min_price:.2f}\")\n",
        "print(f\"Максимальная цена: {max_price:.2f}\")"
      ],
      "metadata": {
        "colab": {
          "base_uri": "https://localhost:8080/"
        },
        "id": "--SJNjtnZ1Nw",
        "outputId": "981e47e0-c823-4e03-e937-e22c20ae3adb"
      },
      "execution_count": 19,
      "outputs": [
        {
          "output_type": "stream",
          "name": "stdout",
          "text": [
            "Средняя цена: 7.46\n",
            "Минимальная цена: 1.09\n",
            "Максимальная цена: 44.25\n"
          ]
        }
      ]
    },
    {
      "cell_type": "markdown",
      "source": [
        "Удалите старую колонку с ценой."
      ],
      "metadata": {
        "id": "mHhhGGckZ_-N"
      }
    },
    {
      "cell_type": "code",
      "source": [
        "df = df.drop(columns=['item_price'])\n"
      ],
      "metadata": {
        "id": "oGgoHf_faBeB"
      },
      "execution_count": 20,
      "outputs": []
    },
    {
      "cell_type": "markdown",
      "source": [
        "5. Какие 5 товаров были самыми дешёвыми и самыми дорогими? (по item_name)"
      ],
      "metadata": {
        "id": "EYDWfF6LaIH_"
      }
    },
    {
      "cell_type": "markdown",
      "source": [
        "Для этого будет удобно избавиться от дубликатов и отсортировать товары. Не забудьте про количество товара."
      ],
      "metadata": {
        "id": "whNlnsaLaItM"
      }
    },
    {
      "cell_type": "code",
      "source": [
        "# Загрузка данных из файла в DataFrame\n",
        "df = pd.read_csv(file_path, sep='\\t')\n"
      ],
      "metadata": {
        "id": "yIb9O3QgaMnt"
      },
      "execution_count": 24,
      "outputs": []
    },
    {
      "cell_type": "code",
      "source": [
        "# Преобразование цены товара в числовой формат\n",
        "df['item_price'] = df['item_price'].apply(lambda x: float(x[1:]))\n",
        "\n",
        "# Создание новой колонки 'total_price' для учета количества товара\n",
        "df['total_price'] = df['quantity'] * df['item_price']"
      ],
      "metadata": {
        "id": "cONVpD8MZFI7"
      },
      "execution_count": 25,
      "outputs": []
    },
    {
      "cell_type": "code",
      "source": [
        "# Группировка данных по 'item_name', нахождение минимальной и максимальной цены\n",
        "cheapest_items = df.groupby('item_name')['total_price'].min().reset_index()\n",
        "expensive_items = df.groupby('item_name')['total_price'].max().reset_index()"
      ],
      "metadata": {
        "id": "uxO1LNKbZQ-Y"
      },
      "execution_count": 26,
      "outputs": []
    },
    {
      "cell_type": "code",
      "source": [
        "# Сортировка по цене\n",
        "cheapest_items = cheapest_items.sort_values(by='total_price').head(5)\n",
        "expensive_items = expensive_items.sort_values(by='total_price', ascending=False).head(5)"
      ],
      "metadata": {
        "id": "YHAvcE6jZY7X"
      },
      "execution_count": 27,
      "outputs": []
    },
    {
      "cell_type": "code",
      "source": [
        "print(\"Самые дешёвые товары:\")\n",
        "print(cheapest_items)\n",
        "\n",
        "print(\"\\nСамые дорогие товары:\")\n",
        "print(expensive_items)"
      ],
      "metadata": {
        "colab": {
          "base_uri": "https://localhost:8080/"
        },
        "id": "9zNFRkr7ZbwI",
        "outputId": "c64b0508-7e6a-41c9-d95c-41d2cacebe0e"
      },
      "execution_count": 28,
      "outputs": [
        {
          "output_type": "stream",
          "name": "stdout",
          "text": [
            "Самые дешёвые товары:\n",
            "            item_name  total_price\n",
            "6       Bottled Water         1.09\n",
            "9         Canned Soda         1.09\n",
            "10  Canned Soft Drink         1.25\n",
            "37      Side of Chips         1.69\n",
            "23              Chips         1.99\n",
            "\n",
            "Самые дорогие товары:\n",
            "                       item_name  total_price\n",
            "24  Chips and Fresh Tomato Salsa       663.75\n",
            "6                  Bottled Water       150.00\n",
            "18               Chicken Burrito       140.00\n",
            "37                 Side of Chips       108.16\n",
            "11                 Carnitas Bowl       105.75\n"
          ]
        }
      ]
    },
    {
      "cell_type": "markdown",
      "source": [
        "6. Сколько раз клиенты покупали больше 1 Chicken Bowl (item_name)?"
      ],
      "metadata": {
        "id": "J6omnQ9wZwUv"
      }
    },
    {
      "cell_type": "code",
      "source": [
        "chicken_bowl_orders = df[df['item_name'] == 'Chicken Bowl']\n",
        "more_than_1_chicken_bowl_orders = chicken_bowl_orders[chicken_bowl_orders['quantity'] > 1]['order_id'].nunique()\n"
      ],
      "metadata": {
        "id": "u-Ap-GQLZxwR"
      },
      "execution_count": 29,
      "outputs": []
    },
    {
      "cell_type": "code",
      "source": [
        "print(f\"Количество раз, когда клиенты покупали больше 1 Chicken Bowl: {more_than_1_chicken_bowl_orders}\")"
      ],
      "metadata": {
        "colab": {
          "base_uri": "https://localhost:8080/"
        },
        "id": "a-WNWNLfaAHz",
        "outputId": "55a63eef-a46d-4005-f18a-0897b69627fc"
      },
      "execution_count": 31,
      "outputs": [
        {
          "output_type": "stream",
          "name": "stdout",
          "text": [
            "Количество раз, когда клиенты покупали больше 1 Chicken Bowl: 33\n"
          ]
        }
      ]
    },
    {
      "cell_type": "markdown",
      "source": [
        "7. Какой средний чек у заказа? Сколько в среднем товаров покупают?"
      ],
      "metadata": {
        "id": "leVOfgshaK_S"
      }
    },
    {
      "cell_type": "markdown",
      "source": [
        "Если необходимо провести вычисления в терминах заказов, то будет удобно сгруппировать строки по заказам и посчитать необходимые статистики."
      ],
      "metadata": {
        "id": "SSIdm6kfaLeu"
      }
    },
    {
      "cell_type": "code",
      "source": [
        "# Группировка данных по заказам и подсчет среднего чека и среднего количества товаров\n",
        "average_order_stats = df.groupby('order_id').agg({\n",
        "    'item_price': 'sum',\n",
        "    'quantity': 'sum'\n",
        "}).mean()"
      ],
      "metadata": {
        "id": "lAUhPd7OaRBc"
      },
      "execution_count": 32,
      "outputs": []
    },
    {
      "cell_type": "code",
      "source": [
        "average_order_price = average_order_stats['item_price']\n",
        "average_items_per_order = int(average_order_stats['quantity'])"
      ],
      "metadata": {
        "id": "kL_vjvVFacHS"
      },
      "execution_count": 36,
      "outputs": []
    },
    {
      "cell_type": "code",
      "source": [
        "print(f\"Средний чек у заказа: ${average_order_price:.2f}\")\n",
        "print(f\"Среднее количество товаров: {average_items_per_order:.2f}\")"
      ],
      "metadata": {
        "colab": {
          "base_uri": "https://localhost:8080/"
        },
        "id": "P4GcIPcbafKm",
        "outputId": "a71d2710-5ac2-4935-f6ef-0bb0570c7e79"
      },
      "execution_count": 37,
      "outputs": [
        {
          "output_type": "stream",
          "name": "stdout",
          "text": [
            "Средний чек у заказа: $18.81\n",
            "Среднее количество товаров: 2.00\n"
          ]
        }
      ]
    },
    {
      "cell_type": "markdown",
      "source": [
        "8. Сколько заказов содержали ровно 1 товар?"
      ],
      "metadata": {
        "id": "b6r5lpSoauqh"
      }
    },
    {
      "cell_type": "code",
      "source": [
        "# Подсчет уникальных заказов и их количества\n",
        "orders_count = df.groupby('order_id')['quantity'].count()\n"
      ],
      "metadata": {
        "id": "mmyXRdIXa4x5"
      },
      "execution_count": 38,
      "outputs": []
    },
    {
      "cell_type": "code",
      "source": [
        "# Подсчет заказов, содержащих ровно 1 товар\n",
        "orders_with_one_item = orders_count[orders_count == 1].count()"
      ],
      "metadata": {
        "id": "mGK2EXJaa5Rm"
      },
      "execution_count": 39,
      "outputs": []
    },
    {
      "cell_type": "code",
      "source": [
        "print(f\"Количество заказов, содержащих ровно 1 товар: {orders_with_one_item}\")"
      ],
      "metadata": {
        "colab": {
          "base_uri": "https://localhost:8080/"
        },
        "id": "sKJafaJma-1Z",
        "outputId": "879d4a4b-b554-40f3-c89c-5707a3a6a11e"
      },
      "execution_count": 40,
      "outputs": [
        {
          "output_type": "stream",
          "name": "stdout",
          "text": [
            "Количество заказов, содержащих ровно 1 товар: 128\n"
          ]
        }
      ]
    },
    {
      "cell_type": "markdown",
      "source": [
        "9. Какая самая популярная категория товара?"
      ],
      "metadata": {
        "id": "J503-HLubCnR"
      }
    },
    {
      "cell_type": "code",
      "source": [
        "# Подсчет количества заказов для каждой категории товара\n",
        "popular_categories = df.groupby('item_name')['order_id'].count()"
      ],
      "metadata": {
        "id": "KM3AVM6mbDJZ"
      },
      "execution_count": 41,
      "outputs": []
    },
    {
      "cell_type": "code",
      "source": [
        "# Нахождение самой популярной категории товара\n",
        "most_popular_category = popular_categories.idxmax()"
      ],
      "metadata": {
        "id": "xlW95cWdbNJt"
      },
      "execution_count": 42,
      "outputs": []
    },
    {
      "cell_type": "code",
      "source": [
        "print(f\"Самая популярная категория товара: {most_popular_category}\")"
      ],
      "metadata": {
        "colab": {
          "base_uri": "https://localhost:8080/"
        },
        "id": "0xDplYvabQfN",
        "outputId": "cf03ab8e-0571-4b6c-a68a-3f882accdaff"
      },
      "execution_count": 43,
      "outputs": [
        {
          "output_type": "stream",
          "name": "stdout",
          "text": [
            "Самая популярная категория товара: Chicken Bowl\n"
          ]
        }
      ]
    },
    {
      "cell_type": "markdown",
      "source": [
        "10. Какие виды Burrito существуют? Какой из них чаще всего покупают? Какой из них самый дорогой?"
      ],
      "metadata": {
        "id": "AEUpzuifbVX2"
      }
    },
    {
      "cell_type": "code",
      "source": [
        "# Фильтрация данных по категории 'Burrito'\n",
        "burrito_data = df[df['item_name'].str.contains('Burrito')]"
      ],
      "metadata": {
        "id": "VwIh6v8cbh6h"
      },
      "execution_count": 44,
      "outputs": []
    },
    {
      "cell_type": "code",
      "source": [
        "# Определение уникальных видов Burrito\n",
        "burrito_types = burrito_data['item_name'].unique()\n",
        "\n",
        "# Вывод видов Burrito\n",
        "print(\"Виды Burrito:\", burrito_types)\n"
      ],
      "metadata": {
        "colab": {
          "base_uri": "https://localhost:8080/"
        },
        "id": "5Xb5Vvknbi2Y",
        "outputId": "a19e7e9a-7e79-489f-a1d7-39fecf91e35a"
      },
      "execution_count": 45,
      "outputs": [
        {
          "output_type": "stream",
          "name": "stdout",
          "text": [
            "Виды Burrito: ['Steak Burrito' 'Chicken Burrito' 'Barbacoa Burrito' 'Carnitas Burrito'\n",
            " 'Veggie Burrito' 'Burrito']\n"
          ]
        }
      ]
    },
    {
      "cell_type": "code",
      "source": [
        "# Подсчет частоты покупок для каждого вида Burrito\n",
        "burrito_frequency = burrito_data.groupby('item_name')['order_id'].count()\n",
        "\n",
        "# Нахождение самого часто покупаемого вида Burrito\n",
        "most_ordered_burrito = burrito_frequency.idxmax()"
      ],
      "metadata": {
        "id": "91_rd_vxbmJb"
      },
      "execution_count": 46,
      "outputs": []
    },
    {
      "cell_type": "code",
      "source": [
        "print(f\"Самый часто покупаемый вид Burrito: {most_ordered_burrito}\")\n"
      ],
      "metadata": {
        "colab": {
          "base_uri": "https://localhost:8080/"
        },
        "id": "ze9CR_NWbo9q",
        "outputId": "7b38f70d-7388-4c8f-b0be-3ebe8f33243b"
      },
      "execution_count": 48,
      "outputs": [
        {
          "output_type": "stream",
          "name": "stdout",
          "text": [
            "Самый часто покупаемый вид Burrito: Chicken Burrito\n"
          ]
        }
      ]
    },
    {
      "cell_type": "code",
      "source": [
        "# Нахождение самого дорогого вида Burrito\n",
        "most_expensive_burrito = burrito_data.loc[burrito_data['item_price'].idxmax()]['item_name']"
      ],
      "metadata": {
        "id": "YNm56wQpbxNg"
      },
      "execution_count": 49,
      "outputs": []
    },
    {
      "cell_type": "code",
      "source": [
        "print(f\"Самый дорогой вид Burrito: {most_expensive_burrito}\")"
      ],
      "metadata": {
        "colab": {
          "base_uri": "https://localhost:8080/"
        },
        "id": "8vsFEPv7b2h7",
        "outputId": "bd7a84db-d790-4d91-c4a2-2369a8c5d4dc"
      },
      "execution_count": 50,
      "outputs": [
        {
          "output_type": "stream",
          "name": "stdout",
          "text": [
            "Самый дорогой вид Burrito: Chicken Burrito\n"
          ]
        }
      ]
    },
    {
      "cell_type": "markdown",
      "source": [
        "11. В каком количестве заказов есть товар, который стоит более 40% от суммы всего чека?"
      ],
      "metadata": {
        "id": "1LVMzh5Ob3qB"
      }
    },
    {
      "cell_type": "code",
      "source": [
        "# Группировка данных по номеру заказа и подсчет общей стоимости каждого заказа\n",
        "order_totals = df.groupby('order_id')['item_price'].sum()"
      ],
      "metadata": {
        "id": "E7cEEluXcEFE"
      },
      "execution_count": 51,
      "outputs": []
    },
    {
      "cell_type": "code",
      "source": [
        "# Фильтрация заказов, в которых есть товары, стоимость которых превышает 40% от суммы заказа\n",
        "filtered_orders = order_totals[order_totals > 0.4 * order_totals]"
      ],
      "metadata": {
        "id": "ZsB7f7PFcGS-"
      },
      "execution_count": 52,
      "outputs": []
    },
    {
      "cell_type": "code",
      "source": [
        "# Вывод количества таких заказов\n",
        "print(f\"Количество заказов, в которых есть товар, стоимость которого превышает 40% от суммы заказа: {len(filtered_orders)}\")"
      ],
      "metadata": {
        "colab": {
          "base_uri": "https://localhost:8080/"
        },
        "id": "6Tv3T0AucHcG",
        "outputId": "6ab0adbe-bc71-47f7-f43a-827087f7cd75"
      },
      "execution_count": 53,
      "outputs": [
        {
          "output_type": "stream",
          "name": "stdout",
          "text": [
            "Количество заказов, в которых есть товар, стоимость которого превышает 40% от суммы заказа: 1834\n"
          ]
        }
      ]
    },
    {
      "cell_type": "markdown",
      "source": [
        "12. Предположим, что в данных была ошибка и Diet Coke (choice_description), который стоил $1.25, должен был стоить 1.35. Скорректируйте данные в таблицы и посчитайте, на какой процент больше денег было заработано с этого товара. Не забывайте, что количество товара не всегда равно 1."
      ],
      "metadata": {
        "id": "R21bYIiOcOF2"
      }
    },
    {
      "cell_type": "code",
      "source": [
        "# Фильтрация данных для товара \"Diet Coke\"\n",
        "diet_coke_data = df[df['item_name'] == 'Diet Coke']"
      ],
      "metadata": {
        "id": "VZwdamRUcbr6"
      },
      "execution_count": 54,
      "outputs": []
    },
    {
      "cell_type": "code",
      "source": [
        "# Расчет текущей выручки и количества товара\n",
        "current_revenue = (diet_coke_data['quantity'] * diet_coke_data['item_price']).sum()\n",
        "current_quantity = diet_coke_data['quantity'].sum()"
      ],
      "metadata": {
        "id": "2i8DX-Cgcd6w"
      },
      "execution_count": 55,
      "outputs": []
    },
    {
      "cell_type": "code",
      "source": [
        "# Проверка на ноль текущей выручки\n",
        "if current_revenue == 0:\n",
        "    print(\"Текущая выручка равна нулю.\")\n",
        "else:\n",
        "    # Исправление цены для товара \"Diet Coke\"\n",
        "    corrected_price = 1.35\n",
        "    df.loc[df['item_name'] == 'Diet Coke', 'item_price'] = corrected_price\n",
        "\n",
        "    # Расчет новой выручки после коррекции\n",
        "    updated_revenue = (diet_coke_data['quantity'] * corrected_price).sum()\n",
        "\n",
        "    # Расчет процента изменения выручки\n",
        "    percentage_change = ((updated_revenue - current_revenue) / current_revenue) * 100"
      ],
      "metadata": {
        "colab": {
          "base_uri": "https://localhost:8080/"
        },
        "id": "W5iLdopCchQd",
        "outputId": "e53521d7-4c20-4f1d-a352-925b893ac38f"
      },
      "execution_count": 59,
      "outputs": [
        {
          "output_type": "stream",
          "name": "stdout",
          "text": [
            "Текущая выручка равна нулю.\n"
          ]
        }
      ]
    },
    {
      "cell_type": "code",
      "source": [
        "print(f\"Текущая выручка: ${current_revenue:.2f}\")\n",
        "print(f\"Новая выручка после изменения цены: ${updated_revenue:.2f}\")\n",
        "print(f\"Процент изменения выручки: {percentage_change:.2f}%\")"
      ],
      "metadata": {
        "colab": {
          "base_uri": "https://localhost:8080/"
        },
        "id": "qMnn0xaqclN4",
        "outputId": "b6c92281-57ec-4461-f8ca-f3c2a6728d7d"
      },
      "execution_count": 60,
      "outputs": [
        {
          "output_type": "stream",
          "name": "stdout",
          "text": [
            "Текущая выручка: $0.00\n",
            "Новая выручка после изменения цены: $0.00\n",
            "Процент изменения выручки: nan%\n"
          ]
        }
      ]
    },
    {
      "cell_type": "markdown",
      "source": [],
      "metadata": {
        "id": "NTwvbOqTai-r"
      }
    }
  ]
}