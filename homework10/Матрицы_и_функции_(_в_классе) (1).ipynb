{
  "nbformat": 4,
  "nbformat_minor": 0,
  "metadata": {
    "colab": {
      "provenance": []
    },
    "kernelspec": {
      "name": "python3",
      "display_name": "Python 3"
    },
    "language_info": {
      "name": "python"
    }
  },
  "cells": [
    {
      "cell_type": "markdown",
      "source": [
        "**1. Создать массив единиц размерностью 2х3х4**"
      ],
      "metadata": {
        "id": "_MlX2J5OaAYZ"
      }
    },
    {
      "cell_type": "code",
      "source": [
        "import numpy as np"
      ],
      "metadata": {
        "id": "La6x0GCYaGfV"
      },
      "execution_count": 1,
      "outputs": []
    },
    {
      "cell_type": "code",
      "source": [
        "array = np.ones((2,3,4))\n",
        "array"
      ],
      "metadata": {
        "colab": {
          "base_uri": "https://localhost:8080/"
        },
        "id": "p0FZ3uWcaSe-",
        "outputId": "0c424644-a6ca-4394-c1fd-92b7fab3f001"
      },
      "execution_count": 2,
      "outputs": [
        {
          "output_type": "execute_result",
          "data": {
            "text/plain": [
              "array([[[1., 1., 1., 1.],\n",
              "        [1., 1., 1., 1.],\n",
              "        [1., 1., 1., 1.]],\n",
              "\n",
              "       [[1., 1., 1., 1.],\n",
              "        [1., 1., 1., 1.],\n",
              "        [1., 1., 1., 1.]]])"
            ]
          },
          "metadata": {},
          "execution_count": 2
        }
      ]
    },
    {
      "cell_type": "markdown",
      "source": [
        "**2. Создать массив размерностью 8х8 и заполнить значениями 42**"
      ],
      "metadata": {
        "id": "b-nbodr7aegp"
      }
    },
    {
      "cell_type": "code",
      "source": [
        "array = np.full((8,8), 42)\n",
        "print(array)"
      ],
      "metadata": {
        "colab": {
          "base_uri": "https://localhost:8080/"
        },
        "id": "4ubTAm4eamox",
        "outputId": "a8cf806c-d472-4856-d62a-a845d7e7168c"
      },
      "execution_count": 4,
      "outputs": [
        {
          "output_type": "stream",
          "name": "stdout",
          "text": [
            "[[42 42 42 42 42 42 42 42]\n",
            " [42 42 42 42 42 42 42 42]\n",
            " [42 42 42 42 42 42 42 42]\n",
            " [42 42 42 42 42 42 42 42]\n",
            " [42 42 42 42 42 42 42 42]\n",
            " [42 42 42 42 42 42 42 42]\n",
            " [42 42 42 42 42 42 42 42]\n",
            " [42 42 42 42 42 42 42 42]]\n"
          ]
        }
      ]
    },
    {
      "cell_type": "markdown",
      "source": [
        "**3. Создать массив случайных значений [0, 100] размерностью 1х8.**"
      ],
      "metadata": {
        "id": "WSJ3b7wka0AD"
      }
    },
    {
      "cell_type": "code",
      "source": [
        "array = np.random.randint(0, 100+1, size=(1,8))\n",
        "array"
      ],
      "metadata": {
        "colab": {
          "base_uri": "https://localhost:8080/"
        },
        "id": "R6U8TvsbbM0E",
        "outputId": "0ca774da-0f50-4868-c47f-47a26e582648"
      },
      "execution_count": 5,
      "outputs": [
        {
          "output_type": "execute_result",
          "data": {
            "text/plain": [
              "array([[ 21,   3,  37,  22,  33,  96, 100,  73]])"
            ]
          },
          "metadata": {},
          "execution_count": 5
        }
      ]
    },
    {
      "cell_type": "markdown",
      "source": [
        "**4. Создать массив нулей размерностью 2х3 и выполнить транспонирование.**"
      ],
      "metadata": {
        "id": "YkUxn12tbsuf"
      }
    },
    {
      "cell_type": "code",
      "source": [
        "array = np.full((2,3), 0)\n",
        "array"
      ],
      "metadata": {
        "colab": {
          "base_uri": "https://localhost:8080/"
        },
        "id": "8H_nsM5Jb0z7",
        "outputId": "2e11f8e3-4c9e-47e5-da70-0df0bb6a4e26"
      },
      "execution_count": 7,
      "outputs": [
        {
          "output_type": "execute_result",
          "data": {
            "text/plain": [
              "array([[0, 0, 0],\n",
              "       [0, 0, 0]])"
            ]
          },
          "metadata": {},
          "execution_count": 7
        }
      ]
    },
    {
      "cell_type": "code",
      "source": [
        "T = np.transpose(array)\n",
        "T"
      ],
      "metadata": {
        "colab": {
          "base_uri": "https://localhost:8080/"
        },
        "id": "MQ6FiHfQcNxC",
        "outputId": "2315b4d4-762a-4008-e8b9-70b1ef20b414"
      },
      "execution_count": 8,
      "outputs": [
        {
          "output_type": "execute_result",
          "data": {
            "text/plain": [
              "array([[0, 0],\n",
              "       [0, 0],\n",
              "       [0, 0]])"
            ]
          },
          "metadata": {},
          "execution_count": 8
        }
      ]
    },
    {
      "cell_type": "markdown",
      "source": [
        "**5. Создать 2 массива единиц A и B размерностью 2х3 и сложить их.**"
      ],
      "metadata": {
        "id": "_-c2kc9uchFl"
      }
    },
    {
      "cell_type": "code",
      "source": [
        "array1 = np.ones((2,3))\n",
        "array2 = np.ones((2,3))"
      ],
      "metadata": {
        "id": "VbISVehSctpH"
      },
      "execution_count": 9,
      "outputs": []
    },
    {
      "cell_type": "code",
      "source": [
        "print(array1 + array2)"
      ],
      "metadata": {
        "colab": {
          "base_uri": "https://localhost:8080/"
        },
        "id": "gX7DZFCIc6wU",
        "outputId": "3806bee6-4973-4c9b-d301-94819065685f"
      },
      "execution_count": 10,
      "outputs": [
        {
          "output_type": "stream",
          "name": "stdout",
          "text": [
            "[[2. 2. 2.]\n",
            " [2. 2. 2.]]\n"
          ]
        }
      ]
    },
    {
      "cell_type": "markdown",
      "source": [
        "**6. Написать функцию умножения трёх матриц.**"
      ],
      "metadata": {
        "id": "Xi1wkK8kdN_V"
      }
    },
    {
      "cell_type": "code",
      "source": [
        "def multiply_matrices(matrix1, matrix2):\n",
        "    if len(matrix1[0]) != len(matrix2):\n",
        "        return \"Матрицы разной размерности\"\n",
        "\n",
        "    result_matrix = [[0 for _ in range(len(matrix2[0]))] for _ in range(len(matrix1))]\n",
        "\n",
        "    for i in range(len(matrix1)):\n",
        "        for j in range(len(matrix2[0])):\n",
        "            for k in range(len(matrix2)):\n",
        "                result_matrix[i][j] += matrix1[i][k] * matrix2[k][j]\n",
        "\n",
        "    return result_matrix"
      ],
      "metadata": {
        "id": "DP2vDBUDixJc"
      },
      "execution_count": 62,
      "outputs": []
    },
    {
      "cell_type": "code",
      "source": [
        "# перемножим 2 матрицы сначала\n",
        "matrix1 = [[1, 2, 3],[4, 5, 6]]\n",
        "\n",
        "matrix2 = [[7, 8], [9, 10], [11, 12]]\n",
        "\n",
        "result = multiply_matrices(matrix1, matrix2)\n",
        "for row in result:\n",
        "    print(row)"
      ],
      "metadata": {
        "colab": {
          "base_uri": "https://localhost:8080/"
        },
        "id": "0cN84X9WkMh4",
        "outputId": "5177d37c-07f2-43e7-d24d-d71ef1276db3"
      },
      "execution_count": 70,
      "outputs": [
        {
          "output_type": "stream",
          "name": "stdout",
          "text": [
            "[58, 64]\n",
            "[139, 154]\n"
          ]
        }
      ]
    },
    {
      "cell_type": "code",
      "source": [
        "# создадим третью матрицу\n",
        "matrix3 = [[1, 8],[6, 5]]\n",
        "\n",
        "result_with_matrix3 = multiply_matrices(result, matrix3)\n",
        "for row in result_with_matrix3:\n",
        "    print(row)"
      ],
      "metadata": {
        "colab": {
          "base_uri": "https://localhost:8080/"
        },
        "id": "bmQL8j0Ql-Zp",
        "outputId": "7d721aeb-e076-4b8f-c327-6f44432a3e20"
      },
      "execution_count": 69,
      "outputs": [
        {
          "output_type": "stream",
          "name": "stdout",
          "text": [
            "[442, 784]\n",
            "[1063, 1882]\n"
          ]
        }
      ]
    },
    {
      "cell_type": "markdown",
      "source": [
        "**7. Написать функцию, которая\n",
        "умножает матрицу на транспорированную матрицу (пользуйтесь встроенными функциями такими как np.dot(), @, T) получает обратную матрицу от результата.**"
      ],
      "metadata": {
        "id": "P0cF-v7hd5rj"
      }
    },
    {
      "cell_type": "code",
      "source": [
        "def multiply_and_inverse(matrix):\n",
        "    # умножение матрицы на транспонированную матрицу\n",
        "    result = np.dot(matrix, matrix.T)\n",
        "\n",
        "    # получение обратной матрицы от результата\n",
        "    inverse_result = np.linalg.inv(result)\n",
        "\n",
        "    return inverse_result\n",
        "\n",
        "# пример использования функции\n",
        "matrix = np.array([[8, 2], [5, 2]])\n",
        "result = multiply_and_inverse(matrix)\n",
        "print(result)"
      ],
      "metadata": {
        "colab": {
          "base_uri": "https://localhost:8080/"
        },
        "id": "ZHar2KeKn-Qt",
        "outputId": "78016be1-f3e9-4af7-f00e-0cef43071cf2"
      },
      "execution_count": 58,
      "outputs": [
        {
          "output_type": "stream",
          "name": "stdout",
          "text": [
            "[[ 0.80555556 -1.22222222]\n",
            " [-1.22222222  1.88888889]]\n"
          ]
        }
      ]
    },
    {
      "cell_type": "markdown",
      "source": [
        "**8. Написать и отобразите функцию y = x * x * x/12 + x * (x-15) - 72 на отрезке -10; 10**"
      ],
      "metadata": {
        "id": "yCjn3aBceI_7"
      }
    },
    {
      "cell_type": "code",
      "source": [
        "def function(x):\n",
        "  return x*x*x/12 + x*(x-15) - 72"
      ],
      "metadata": {
        "id": "XzvcVR4KeN6f"
      },
      "execution_count": 16,
      "outputs": []
    },
    {
      "cell_type": "code",
      "source": [
        "x = np.linspace(-10, 10, 100)"
      ],
      "metadata": {
        "id": "bXzZmd6yec4i"
      },
      "execution_count": 17,
      "outputs": []
    },
    {
      "cell_type": "code",
      "source": [
        "y = function(x)"
      ],
      "metadata": {
        "id": "HWKmbBv5evzl"
      },
      "execution_count": 18,
      "outputs": []
    },
    {
      "cell_type": "code",
      "source": [
        "import matplotlib.pyplot as plt"
      ],
      "metadata": {
        "id": "L1UamVOkfFxr"
      },
      "execution_count": 19,
      "outputs": []
    },
    {
      "cell_type": "code",
      "source": [
        "plt.figure(figsize=(12,6))\n",
        "plt.plot(x,y)\n",
        "plt.grid(True)\n",
        "plt.show()"
      ],
      "metadata": {
        "colab": {
          "base_uri": "https://localhost:8080/",
          "height": 522
        },
        "id": "yHxof6FFezj1",
        "outputId": "3fed45d4-9240-45cc-ee05-b5ac3276d2f1"
      },
      "execution_count": 23,
      "outputs": [
        {
          "output_type": "display_data",
          "data": {
            "text/plain": [
              "<Figure size 1200x600 with 1 Axes>"
            ],
            "image/png": "[encoded data removed]"
          },
          "metadata": {}
        }
      ]
    },
    {
      "cell_type": "markdown",
      "source": [
        "**9. Отобразить ту же функцию на отрезке -10; 10, но с шагом 0.1 по оси Х.**"
      ],
      "metadata": {
        "id": "y2TJYF5MfaZF"
      }
    },
    {
      "cell_type": "code",
      "source": [
        "x = np.arange(-10, 10.1, 0.1) #шаг"
      ],
      "metadata": {
        "id": "gjUM5l9rfhW9"
      },
      "execution_count": 25,
      "outputs": []
    },
    {
      "cell_type": "code",
      "source": [
        "y = function(x)"
      ],
      "metadata": {
        "id": "1wlLwypXgdBh"
      },
      "execution_count": 26,
      "outputs": []
    },
    {
      "cell_type": "code",
      "source": [
        "plt.figure(figsize=(12,6))\n",
        "plt.plot(x,y)\n",
        "plt.grid(True)\n",
        "plt.show()"
      ],
      "metadata": {
        "colab": {
          "base_uri": "https://localhost:8080/",
          "height": 522
        },
        "id": "CETxi5lcghC0",
        "outputId": "9bf7ddd7-af39-4bc2-d579-e93e4c89fa94"
      },
      "execution_count": 28,
      "outputs": [
        {
          "output_type": "display_data",
          "data": {
            "text/plain": [
              "<Figure size 1200x600 with 1 Axes>"
            ],
            "image/png": "[encoded data removed]"
          },
          "metadata": {}
        }
      ]
    }
  ]
}