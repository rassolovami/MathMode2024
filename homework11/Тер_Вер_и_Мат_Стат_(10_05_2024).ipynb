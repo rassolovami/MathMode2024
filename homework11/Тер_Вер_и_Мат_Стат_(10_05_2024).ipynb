{
  "nbformat": 4,
  "nbformat_minor": 0,
  "metadata": {
    "colab": {
      "provenance": []
    },
    "kernelspec": {
      "name": "python3",
      "display_name": "Python 3"
    },
    "language_info": {
      "name": "python"
    }
  },
  "cells": [
    {
      "cell_type": "markdown",
      "source": [
        "**1. В ящике находится 17 качественных и 6 бракованных деталей. Если деталь качественная, вы зарабатываете 10 рублей. Если бракованная, вы отдаете 20 рублей. Посчитать среднюю прибыль, если достать две детали наугад.**"
      ],
      "metadata": {
        "id": "7OgRNte1lT0z"
      }
    },
    {
      "cell_type": "code",
      "source": [
        "import scipy.special"
      ],
      "metadata": {
        "id": "Ej9OjvpomgUr"
      },
      "execution_count": 1,
      "outputs": []
    },
    {
      "cell_type": "code",
      "source": [
        "def calculate_expected_profit():\n",
        "    # Количество качественных и бракованных деталей\n",
        "    quality_count = 17\n",
        "    defective_count = 6\n",
        "    total_count = quality_count + defective_count\n",
        "\n",
        "    # Вероятности каждого исхода\n",
        "    prob_QQ = (scipy.special.comb(quality_count, 2) / scipy.special.comb(total_count, 2))\n",
        "    prob_QD = (quality_count * defective_count) / scipy.special.comb(total_count, 2)\n",
        "    prob_DD = (scipy.special.comb(defective_count, 2) / scipy.special.comb(total_count, 2))\n",
        "\n",
        "    # Прибыль для каждого исхода\n",
        "    profit_QQ = 20  # 10 рублей за каждую качественную деталь\n",
        "    profit_QD = -10  # 10 рублей за качественную деталь, минус 20 рублей за бракованную\n",
        "    profit_DD = -40  # минус 20 рублей за каждую бракованную деталь\n",
        "\n",
        "    # Математическое ожидание (средняя прибыль)\n",
        "    expected_profit = (prob_QQ * profit_QQ +\n",
        "                       prob_QD * profit_QD +\n",
        "                       prob_DD * profit_DD)\n",
        "\n",
        "    return expected_profit"
      ],
      "metadata": {
        "id": "vCC52aV7lWj6"
      },
      "execution_count": 8,
      "outputs": []
    },
    {
      "cell_type": "code",
      "source": [
        "average_profit = calculate_expected_profit()\n",
        "print(f\"Средняя прибыль при извлечении двух деталей наугад: {average_profit:.2f} рублей\")"
      ],
      "metadata": {
        "colab": {
          "base_uri": "https://localhost:8080/"
        },
        "id": "aSQJhRS7nYDa",
        "outputId": "5e21adb4-06ce-46d3-ddb6-b40746b2f123"
      },
      "execution_count": 9,
      "outputs": [
        {
          "output_type": "stream",
          "name": "stdout",
          "text": [
            "Средняя прибыль при извлечении двух деталей наугад: 4.35 рублей\n"
          ]
        }
      ]
    },
    {
      "cell_type": "markdown",
      "source": [
        "**2. На испытание поставлено 1200 однотипных ламп. За первые 3000 часов работы отказало 70 ламп, а за интервал 3000– 4000 часа отказало еще 50 ламп. Определить частоту и интенсивность отказов электронных ламп в промежутке 3000–4000 часов работы.**"
      ],
      "metadata": {
        "id": "BsZOegQPm98B"
      }
    },
    {
      "cell_type": "code",
      "source": [
        "import numpy as np"
      ],
      "metadata": {
        "id": "nKQtv0oSnDcV"
      },
      "execution_count": 3,
      "outputs": []
    },
    {
      "cell_type": "code",
      "source": [
        "def calculate_failure_statistics(total_lamps, failed_first_interval, failed_second_interval, first_interval_hours, second_interval_hours):\n",
        "    # Число ламп к началу второго интервала\n",
        "    lamps_start_second_interval = total_lamps - failed_first_interval\n",
        "\n",
        "    # Количество отработанных часов на втором интервале всеми лампами\n",
        "    total_lamp_hours_second_interval = lamps_start_second_interval * second_interval_hours\n",
        "\n",
        "    # Частота отказов на втором интервале\n",
        "    failure_rate = failed_second_interval / total_lamp_hours_second_interval\n",
        "\n",
        "    # Среднее количество работающих ламп на втором интервале\n",
        "    average_lamps_working = (lamps_start_second_interval + (lamps_start_second_interval - failed_second_interval)) / 2\n",
        "\n",
        "    # Интенсивность отказов на втором интервале\n",
        "    failure_intensity = failed_second_interval / (average_lamps_working * second_interval_hours)\n",
        "\n",
        "    return failure_rate, failure_intensity"
      ],
      "metadata": {
        "id": "RzDYSn3xnFM4"
      },
      "execution_count": 7,
      "outputs": []
    },
    {
      "cell_type": "code",
      "source": [
        "# Данные задачи\n",
        "total_lamps = 1200\n",
        "failed_first_interval = 70\n",
        "failed_second_interval = 50\n",
        "first_interval_hours = 3000\n",
        "second_interval_hours = 1000"
      ],
      "metadata": {
        "id": "R-0wCQZBnL8l"
      },
      "execution_count": 5,
      "outputs": []
    },
    {
      "cell_type": "code",
      "source": [
        "# Вычисление частоты и интенсивности отказов\n",
        "failure_rate, failure_intensity = calculate_failure_statistics(total_lamps, failed_first_interval, failed_second_interval, first_interval_hours, second_interval_hours)\n",
        "\n",
        "print(f\"Частота отказов в промежутке 3000–4000 часов работы: {failure_rate:.5e} отказов на лампу-час\")\n",
        "print(f\"Интенсивность отказов в промежутке 3000–4000 часов работы: {failure_intensity:.5e} отказов на лампу-час\")"
      ],
      "metadata": {
        "colab": {
          "base_uri": "https://localhost:8080/"
        },
        "id": "4rs8SaU2nOZp",
        "outputId": "286e6877-6177-47f0-abd7-6c05de9bcb1a"
      },
      "execution_count": 6,
      "outputs": [
        {
          "output_type": "stream",
          "name": "stdout",
          "text": [
            "Частота отказов в промежутке 3000–4000 часов работы: 4.42478e-05 отказов на лампу-час\n",
            "Интенсивность отказов в промежутке 3000–4000 часов работы: 4.52489e-05 отказов на лампу-час\n"
          ]
        }
      ]
    },
    {
      "cell_type": "markdown",
      "source": [
        "**3. В течение некоторого периода времени производилось наблюдение за работой одного экземпляра радиолокационной станции. За весь период наблюдения было зафиксировано 15 отказов. До начала наблюдения станция проработала 258 часов, а к концу наблюдения наработка станции составила 1233 часа. Требуется определить среднюю наработку на отказ.**"
      ],
      "metadata": {
        "id": "sNwIFk_bncW8"
      }
    },
    {
      "cell_type": "code",
      "source": [
        "from scipy.stats import expon"
      ],
      "metadata": {
        "id": "kV3cEfFMnoxX"
      },
      "execution_count": 10,
      "outputs": []
    },
    {
      "cell_type": "code",
      "source": [
        "# Данные задачи\n",
        "initial_hours = 258\n",
        "final_hours = 1233\n",
        "num_failures = 15\n",
        "\n",
        "# Общее время наблюдения\n",
        "total_observed_hours = final_hours - initial_hours\n",
        "\n",
        "# Средняя наработка на отказ (MTBF)\n",
        "mtbf = total_observed_hours / num_failures\n",
        "\n",
        "print(f\"Средняя наработка на отказ (MTBF): {mtbf:.2f} часов\")"
      ],
      "metadata": {
        "colab": {
          "base_uri": "https://localhost:8080/"
        },
        "id": "F85QEpran3Uu",
        "outputId": "b009489e-364e-4bf2-d5fa-35bb8bd7d2c5"
      },
      "execution_count": 11,
      "outputs": [
        {
          "output_type": "stream",
          "name": "stdout",
          "text": [
            "Средняя наработка на отказ (MTBF): 65.00 часов\n"
          ]
        }
      ]
    },
    {
      "cell_type": "markdown",
      "source": [
        "**4. Система состоит из пяти приборов, вероятность исправной работы которых в течение времени t = 100 ч равны: р1(100) = 0,9996; р2(100) = 0,9998; р3(100) = 0,9996; р4(100) = 0,999; р5(100) = 0,9998. Требуется определить частоту отказов системы в момент времени t = 100 ч.**"
      ],
      "metadata": {
        "id": "_HROMpSjn4-d"
      }
    },
    {
      "cell_type": "code",
      "source": [
        "# Вероятности исправной работы\n",
        "p1 = 0.9996\n",
        "p2 = 0.9998\n",
        "p3 = 0.9996\n",
        "p4 = 0.9990\n",
        "p5 = 0.9998\n",
        "\n",
        "# Время\n",
        "t = 100\n",
        "\n",
        "# Вычисление интенсивностей отказов для каждого прибора\n",
        "lambda1 = -np.log(p1) / t\n",
        "lambda2 = -np.log(p2) / t\n",
        "lambda3 = -np.log(p3) / t\n",
        "lambda4 = -np.log(p4) / t\n",
        "lambda5 = -np.log(p5) / t\n",
        "\n",
        "# Общая частота отказов системы\n",
        "lambda_system = lambda1 + lambda2 + lambda3 + lambda4 + lambda5\n",
        "\n",
        "print(f\"Частота отказов системы в момент времени t = 100 ч: {lambda_system:.6f} отказов в час\")"
      ],
      "metadata": {
        "colab": {
          "base_uri": "https://localhost:8080/"
        },
        "id": "U0x2TWFLn8yu",
        "outputId": "8356aeb5-3d71-49ba-839a-ef409d549e61"
      },
      "execution_count": 12,
      "outputs": [
        {
          "output_type": "stream",
          "name": "stdout",
          "text": [
            "Частота отказов системы в момент времени t = 100 ч: 0.000022 отказов в час\n"
          ]
        }
      ]
    },
    {
      "cell_type": "markdown",
      "source": [
        "**5. Мистер Хэ играет в европейскую рулетку (где 18 чёрных ячеек, 18 красных, и 1 зелёная). Он играет по следующей системе: постоянно ставит 250 рублей на «красное». Необходимо составить закон распределения случайной величины – его выигрыша. Вычислить математическое ожидание выигрыша и округлить его. Сколько в среднем проигрывает игрок с каждой ставки?**"
      ],
      "metadata": {
        "id": "_fLbLzIXoV8D"
      }
    },
    {
      "cell_type": "code",
      "source": [
        "# Параметры рулетки\n",
        "prob_win = 18 / 37\n",
        "prob_lose = 19 / 37\n",
        "win_amount = 250\n",
        "lose_amount = -250"
      ],
      "metadata": {
        "id": "ukMo4yhboppH"
      },
      "execution_count": 13,
      "outputs": []
    },
    {
      "cell_type": "code",
      "source": [
        "# Вычисление математического ожидания\n",
        "expected_value = win_amount * prob_win + lose_amount * prob_lose\n",
        "\n",
        "print(f\"Математическое ожидание выигрыша: {expected_value:.2f} рублей\")"
      ],
      "metadata": {
        "colab": {
          "base_uri": "https://localhost:8080/"
        },
        "id": "6ydKqCAgoru2",
        "outputId": "0f4378a8-5872-4e3b-905a-91bda8ad199d"
      },
      "execution_count": 14,
      "outputs": [
        {
          "output_type": "stream",
          "name": "stdout",
          "text": [
            "Математическое ожидание выигрыша: -6.76 рублей\n"
          ]
        }
      ]
    },
    {
      "cell_type": "code",
      "source": [
        "# Средний проигрыш на каждую ставку\n",
        "average_loss_per_bet = -expected_value\n",
        "print(f\"Средний проигрыш на каждую ставку: {average_loss_per_bet:.2f} рублей\")"
      ],
      "metadata": {
        "colab": {
          "base_uri": "https://localhost:8080/"
        },
        "id": "R6s5Ha-Not70",
        "outputId": "7bb0f03b-3f6a-4221-aa5a-f4608daa6650"
      },
      "execution_count": 15,
      "outputs": [
        {
          "output_type": "stream",
          "name": "stdout",
          "text": [
            "Средний проигрыш на каждую ставку: 6.76 рублей\n"
          ]
        }
      ]
    }
  ]
}