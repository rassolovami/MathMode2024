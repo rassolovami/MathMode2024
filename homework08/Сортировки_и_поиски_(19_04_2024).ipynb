{
  "nbformat": 4,
  "nbformat_minor": 0,
  "metadata": {
    "colab": {
      "provenance": []
    },
    "kernelspec": {
      "name": "python3",
      "display_name": "Python 3"
    },
    "language_info": {
      "name": "python"
    }
  },
  "cells": [
    {
      "cell_type": "markdown",
      "source": [
        "**Алгоритм поиска**"
      ],
      "metadata": {
        "id": "dvB0C6T349l-"
      }
    },
    {
      "cell_type": "code",
      "source": [
        "def search_in(array, number):\n",
        "    return number in array"
      ],
      "metadata": {
        "id": "UJbGNYHD5cGA"
      },
      "execution_count": 11,
      "outputs": []
    },
    {
      "cell_type": "markdown",
      "source": [
        "**Линейный поиск**"
      ],
      "metadata": {
        "id": "c1MQ2Zkf4_7H"
      }
    },
    {
      "cell_type": "code",
      "source": [
        "def LinearSearch(nums, val):\n",
        "    for i in range(len(nums)):\n",
        "        if nums[i] == val:\n",
        "            return i\n",
        "    return -1"
      ],
      "metadata": {
        "id": "EmLLU54k5Wzu"
      },
      "execution_count": 3,
      "outputs": []
    },
    {
      "cell_type": "markdown",
      "source": [
        "**Бинарный поиск**"
      ],
      "metadata": {
        "id": "spUPqw565Cah"
      }
    },
    {
      "cell_type": "code",
      "source": [
        "def BinarySearch(nums, val):\n",
        "    first = 0\n",
        "    last = len(nums)-1\n",
        "    index = -1\n",
        "    while (first <= last) and (index == -1):\n",
        "        mid = (first+last)//2\n",
        "        if nums[mid] == val:\n",
        "            index = mid\n",
        "        else:\n",
        "            if val<nums[mid]:\n",
        "                last = mid -1\n",
        "            else:\n",
        "                first = mid +1\n",
        "    return index"
      ],
      "metadata": {
        "id": "OcmhrIMO5S5B"
      },
      "execution_count": 2,
      "outputs": []
    },
    {
      "cell_type": "markdown",
      "source": [
        "**Jump search**"
      ],
      "metadata": {
        "id": "e6KKnXF_5G4d"
      }
    },
    {
      "cell_type": "code",
      "source": [
        "def JumpSearch(nums, val):\n",
        "    length = len(nums)\n",
        "    jump = int(length**0.5)\n",
        "    left, right = 0, 0\n",
        "    while left < length and nums[left] <= val:\n",
        "        right = min(length - 1, left + jump)\n",
        "        if nums[left] <= val and nums[right] >= val:\n",
        "            break\n",
        "        left += jump;\n",
        "    if left >= length or nums[left] > val:\n",
        "        return -1\n",
        "    right = min(length - 1, right)\n",
        "    i = left\n",
        "    while i <= right and nums[i] <= val:\n",
        "        if nums[i] == val:\n",
        "            return i\n",
        "        i += 1\n",
        "    return -1"
      ],
      "metadata": {
        "id": "tb5DICWE5L9N"
      },
      "execution_count": 1,
      "outputs": []
    },
    {
      "cell_type": "markdown",
      "source": [
        "**Поиск Фибоначчи**"
      ],
      "metadata": {
        "id": "riAb_39t5nUE"
      }
    },
    {
      "cell_type": "code",
      "source": [
        "def FibonacciSearch(nums, val):\n",
        "    fibM_minus_2 = 0\n",
        "    fibM_minus_1 = 1\n",
        "    fibM = fibM_minus_1 + fibM_minus_2\n",
        "    while (fibM < len(nums)):\n",
        "        fibM_minus_2 = fibM_minus_1\n",
        "        fibM_minus_1 = fibM\n",
        "        fibM = fibM_minus_1 + fibM_minus_2\n",
        "    index = -1;\n",
        "    while (fibM > 1):\n",
        "        i = min(index + fibM_minus_2, (len(nums)-1))\n",
        "        if (nums[i] < val):\n",
        "            fibM = fibM_minus_1\n",
        "            fibM_minus_1 = fibM_minus_2\n",
        "            fibM_minus_2 = fibM - fibM_minus_1\n",
        "            index = i\n",
        "        elif (nums[i] > val):\n",
        "            fibM = fibM_minus_2\n",
        "            fibM_minus_1 = fibM_minus_1 - fibM_minus_2\n",
        "            fibM_minus_2 = fibM - fibM_minus_1\n",
        "        else :\n",
        "            return i\n",
        "    if(fibM_minus_1 and index < (len(nums)-1) and nums[index+1] == val):\n",
        "        return index+1;\n",
        "    return -1"
      ],
      "metadata": {
        "id": "GHoMNILL5pVY"
      },
      "execution_count": 5,
      "outputs": []
    },
    {
      "cell_type": "markdown",
      "source": [
        "**Экспоненциальный поиск**"
      ],
      "metadata": {
        "id": "lK_pYu-n5w_o"
      }
    },
    {
      "cell_type": "code",
      "source": [
        "def ExponentialSearch(nums, val):\n",
        "    if nums[0] == val:\n",
        "        return 0\n",
        "    index = 1\n",
        "    while index < len(nums) and nums[index] <= val:\n",
        "        prev_index = index\n",
        "        index = index * 2\n",
        "    return BinarySearch(nums[:min(index, len(nums))], val)"
      ],
      "metadata": {
        "id": "19RPcyyq51jx"
      },
      "execution_count": 6,
      "outputs": []
    },
    {
      "cell_type": "markdown",
      "source": [
        "**Интерполяционный поиск**"
      ],
      "metadata": {
        "id": "Ih4IzSuo57GW"
      }
    },
    {
      "cell_type": "code",
      "source": [
        "def InterpolationSearch(nums, val):\n",
        "    low = 0\n",
        "    high = (len(nums) - 1)\n",
        "    while low <= high and val >= nums[low] and val <= nums[high]:\n",
        "        index = low + int(((float(high - low) / ( nums[high] - nums[low])) * ( val - nums[low])))\n",
        "        if nums[index] == val:\n",
        "            return index\n",
        "        if nums[index] < val:\n",
        "            low = index + 1;\n",
        "        else:\n",
        "            high = index - 1;\n",
        "    return -1"
      ],
      "metadata": {
        "id": "X2cgIdF55_B8"
      },
      "execution_count": 7,
      "outputs": []
    },
    {
      "cell_type": "markdown",
      "source": [
        "**Пузырьковая сортировка**"
      ],
      "metadata": {
        "id": "RC7jBa1oDflD"
      }
    },
    {
      "cell_type": "code",
      "source": [
        "def bubble_sort(nums):\n",
        "    # Устанавливаем swapped в True, чтобы цикл запустился хотя бы один раз\n",
        "    swapped = True\n",
        "    while swapped:\n",
        "        swapped = False\n",
        "        for i in range(len(nums) - 1):\n",
        "            if nums[i] > nums[i + 1]:\n",
        "                # Меняем элементы\n",
        "                nums[i], nums[i + 1] = nums[i + 1], nums[i]\n",
        "                # Устанавливаем swapped в True для следующей итерации\n",
        "                swapped = True"
      ],
      "metadata": {
        "id": "cu6C8ZyFDlBm"
      },
      "execution_count": 35,
      "outputs": []
    },
    {
      "cell_type": "markdown",
      "source": [
        "**Сортировка выборкой**"
      ],
      "metadata": {
        "id": "01XGX4XXDp0v"
      }
    },
    {
      "cell_type": "code",
      "source": [
        "def selection_sort(nums):\n",
        "    # Значение i соответствует кол-ву отсортированных значений\n",
        "    for i in range(len(nums)):\n",
        "        # Исходно считаем наименьшим первый элемент\n",
        "        lowest_value_index = i\n",
        "        # Этот цикл перебирает несортированные элементы\n",
        "        for j in range(i + 1, len(nums)):\n",
        "            if nums[j] < nums[lowest_value_index]:\n",
        "                lowest_value_index = j\n",
        "        # Самый маленький элемент меняем с первым в списке\n",
        "        nums[i], nums[lowest_value_index] = nums[lowest_value_index], nums[i]"
      ],
      "metadata": {
        "id": "8dTdIWnlDtCY"
      },
      "execution_count": 36,
      "outputs": []
    },
    {
      "cell_type": "markdown",
      "source": [
        "**Сортировка вставками**"
      ],
      "metadata": {
        "id": "EqbqM7l2Dv2P"
      }
    },
    {
      "cell_type": "code",
      "source": [
        "def insertion_sort(nums):\n",
        "    # Сортировку начинаем со второго элемента, т.к. считается, что первый элемент уже отсортирован\n",
        "    for i in range(1, len(nums)):\n",
        "        item_to_insert = nums[i]\n",
        "        # Сохраняем ссылку на индекс предыдущего элемента\n",
        "        j = i - 1\n",
        "        # Элементы отсортированного сегмента перемещаем вперёд, если они больше\n",
        "        # элемента для вставки\n",
        "        while j >= 0 and nums[j] > item_to_insert:\n",
        "            nums[j + 1] = nums[j]\n",
        "            j -= 1\n",
        "        # Вставляем элемент\n",
        "        nums[j + 1] = item_to_insert"
      ],
      "metadata": {
        "id": "SWTNRchTDzT6"
      },
      "execution_count": 37,
      "outputs": []
    },
    {
      "cell_type": "markdown",
      "source": [
        "**Сортировка слиянием**"
      ],
      "metadata": {
        "id": "XeIaA6l_D132"
      }
    },
    {
      "cell_type": "code",
      "source": [
        "def merge(left_list, right_list):\n",
        "    sorted_list = []\n",
        "    left_list_index = right_list_index = 0\n",
        "\n",
        "    # Длина списков часто используется, поэтому создадим переменные для удобства\n",
        "    left_list_length, right_list_length = len(left_list), len(right_list)\n",
        "\n",
        "    for _ in range(left_list_length + right_list_length):\n",
        "        if left_list_index < left_list_length and right_list_index < right_list_length:\n",
        "            # Сравниваем первые элементы в начале каждого списка\n",
        "            # Если первый элемент левого подсписка меньше, добавляем его\n",
        "            # в отсортированный массив\n",
        "            if left_list[left_list_index] <= right_list[right_list_index]:\n",
        "                sorted_list.append(left_list[left_list_index])\n",
        "                left_list_index += 1\n",
        "            # Если первый элемент правого подсписка меньше, добавляем его\n",
        "            # в отсортированный массив\n",
        "            else:\n",
        "                sorted_list.append(right_list[right_list_index])\n",
        "                right_list_index += 1\n",
        "\n",
        "        # Если достигнут конец левого списка, элементы правого списка\n",
        "        # добавляем в конец результирующего списка\n",
        "        elif left_list_index == left_list_length:\n",
        "            sorted_list.append(right_list[right_list_index])\n",
        "            right_list_index += 1\n",
        "        # Если достигнут конец правого списка, элементы левого списка\n",
        "        # добавляем в отсортированный массив\n",
        "        elif right_list_index == right_list_length:\n",
        "            sorted_list.append(left_list[left_list_index])\n",
        "            left_list_index += 1\n",
        "\n",
        "    return sorted_list\n",
        "\n",
        "def merge_sort(nums):\n",
        "    # Возвращаем список, если он состоит из одного элемента\n",
        "    if len(nums) <= 1:\n",
        "        return nums\n",
        "\n",
        "    # Для того чтобы найти середину списка, используем деление без остатка\n",
        "    # Индексы должны быть integer\n",
        "    mid = len(nums) // 2\n",
        "\n",
        "    # Сортируем и объединяем подсписки\n",
        "    left_list = merge_sort(nums[:mid])\n",
        "    right_list = merge_sort(nums[mid:])\n",
        "\n",
        "    # Объединяем отсортированные списки в результирующий\n",
        "    return merge(left_list, right_list)"
      ],
      "metadata": {
        "id": "FexdtFJ-EIS-"
      },
      "execution_count": 38,
      "outputs": []
    },
    {
      "cell_type": "markdown",
      "source": [
        "**Быстрая сортировка**"
      ],
      "metadata": {
        "id": "bp47-8awELi8"
      }
    },
    {
      "cell_type": "code",
      "source": [
        "def partition(nums, low, high):\n",
        "    pivot = nums[(low + high) // 2]\n",
        "    i = low - 1\n",
        "    j = high + 1\n",
        "    while True:\n",
        "        i += 1\n",
        "        while nums[i] < pivot:\n",
        "            i += 1\n",
        "\n",
        "        j -= 1\n",
        "        while nums[j] > pivot:\n",
        "            j -= 1\n",
        "\n",
        "        if i >= j:\n",
        "            return j\n",
        "\n",
        "        nums[i], nums[j] = nums[j], nums[i]\n",
        "\n",
        "def quick_sort(nums, low, high):\n",
        "    def _quick_sort(items, low, high):\n",
        "        if low < high:\n",
        "            split_index = partition(items, low, high)\n",
        "            _quick_sort(items, low, split_index)\n",
        "            _quick_sort(items, split_index + 1, high)\n",
        "\n",
        "    _quick_sort(nums, low, high)"
      ],
      "metadata": {
        "id": "il8Hc7mmEQPi"
      },
      "execution_count": 60,
      "outputs": []
    },
    {
      "cell_type": "markdown",
      "source": [
        "**Задание 1**"
      ],
      "metadata": {
        "id": "520gQtmq6mla"
      }
    },
    {
      "cell_type": "code",
      "source": [
        "from random import randint\n",
        "array1 = [randint(1, 1000) for _ in range(100)]\n",
        "number1 = array1[5]"
      ],
      "metadata": {
        "id": "kucDocSj6pCZ"
      },
      "execution_count": 24,
      "outputs": []
    },
    {
      "cell_type": "code",
      "source": [
        "time1_search_in = %timeit -o search_in(array1, number1)\n",
        "time1_LinearSearch = %timeit -o LinearSearch(array1, number1)\n",
        "time1_BinarySearch = %timeit -o BinarySearch(array1, number1)\n",
        "time1_JumpSearch = %timeit -o JumpSearch(array1, number1)\n",
        "time1_FibonacciSearch = %timeit -o FibonacciSearch(array1, number1)\n",
        "time1_ExponentialSearch = %timeit -o ExponentialSearch(array1, number1)\n",
        "time1_InterpolationSearch = %timeit -o InterpolationSearch(array1, number1)"
      ],
      "metadata": {
        "colab": {
          "base_uri": "https://localhost:8080/"
        },
        "id": "8K17zGjk7HnA",
        "outputId": "68ba73b7-1431-47b1-8dd3-2134fa42eded"
      },
      "execution_count": 25,
      "outputs": [
        {
          "output_type": "stream",
          "name": "stdout",
          "text": [
            "203 ns ± 5.91 ns per loop (mean ± std. dev. of 7 runs, 1000000 loops each)\n",
            "658 ns ± 7.91 ns per loop (mean ± std. dev. of 7 runs, 1000000 loops each)\n",
            "1.99 µs ± 439 ns per loop (mean ± std. dev. of 7 runs, 1000000 loops each)\n",
            "4.61 µs ± 1.02 µs per loop (mean ± std. dev. of 7 runs, 100000 loops each)\n",
            "4.87 µs ± 225 ns per loop (mean ± std. dev. of 7 runs, 100000 loops each)\n",
            "3.38 µs ± 31.7 ns per loop (mean ± std. dev. of 7 runs, 100000 loops each)\n",
            "502 ns ± 114 ns per loop (mean ± std. dev. of 7 runs, 1000000 loops each)\n"
          ]
        }
      ]
    },
    {
      "cell_type": "markdown",
      "source": [
        "**Задача 2**"
      ],
      "metadata": {
        "id": "As8tXzK48Vs8"
      }
    },
    {
      "cell_type": "code",
      "source": [
        "from random import randint\n",
        "array2 = [randint(1, 1000) for _ in range(100)]\n",
        "number2 = array2[95]"
      ],
      "metadata": {
        "id": "X10UTKVM8aUL"
      },
      "execution_count": 20,
      "outputs": []
    },
    {
      "cell_type": "code",
      "source": [
        "time2_search_in = %timeit -o search_in(array2, number2)\n",
        "time2_LinearSearch = %timeit -o LinearSearch(array2, number2)\n",
        "time2_BinarySearch = %timeit -o BinarySearch(array2, number2)\n",
        "time2_JumpSearch = %timeit -o JumpSearch(array2, number2)\n",
        "time2_FibonacciSearch = %timeit -o FibonacciSearch(array2, number2)\n",
        "time2_ExponentialSearch = %timeit -o ExponentialSearch(array2, number2)\n",
        "time2_InterpolationSearch = %timeit -o InterpolationSearch(array2, number2)"
      ],
      "metadata": {
        "colab": {
          "base_uri": "https://localhost:8080/"
        },
        "id": "fS8kwEnt8psk",
        "outputId": "253ae70d-ffda-471a-d1fd-646cfcb452da"
      },
      "execution_count": 26,
      "outputs": [
        {
          "output_type": "stream",
          "name": "stdout",
          "text": [
            "1.28 µs ± 331 ns per loop (mean ± std. dev. of 7 runs, 1000000 loops each)\n",
            "6.31 µs ± 251 ns per loop (mean ± std. dev. of 7 runs, 100000 loops each)\n",
            "2.03 µs ± 438 ns per loop (mean ± std. dev. of 7 runs, 1000000 loops each)\n",
            "504 ns ± 11.4 ns per loop (mean ± std. dev. of 7 runs, 1000000 loops each)\n",
            "4.66 µs ± 57.1 ns per loop (mean ± std. dev. of 7 runs, 100000 loops each)\n",
            "3.07 µs ± 72.5 ns per loop (mean ± std. dev. of 7 runs, 100000 loops each)\n",
            "456 ns ± 89.8 ns per loop (mean ± std. dev. of 7 runs, 1000000 loops each)\n"
          ]
        }
      ]
    },
    {
      "cell_type": "markdown",
      "source": [
        "**Задача 3**"
      ],
      "metadata": {
        "id": "ha19vyF4-ATF"
      }
    },
    {
      "cell_type": "markdown",
      "source": [
        "**Вывод:**\n",
        "\n",
        "Алгоритмы первой задачи выполняются быстрее второй."
      ],
      "metadata": {
        "id": "xqpHo4bvBdWA"
      }
    },
    {
      "cell_type": "code",
      "source": [
        "time1 = [time1_search_in.best, time1_LinearSearch.best, time1_BinarySearch.best, time1_JumpSearch.best, time1_FibonacciSearch.best, time1_ExponentialSearch.best, time1_InterpolationSearch.best]\n",
        "time2 = [time2_search_in.best, time2_LinearSearch.best, time2_BinarySearch.best, time2_JumpSearch.best, time2_FibonacciSearch.best, time2_ExponentialSearch.best, time2_InterpolationSearch.best]"
      ],
      "metadata": {
        "id": "35uDJHiUA_uA"
      },
      "execution_count": 27,
      "outputs": []
    },
    {
      "cell_type": "code",
      "source": [
        "import matplotlib.pyplot as plt"
      ],
      "metadata": {
        "id": "YShSyHC8BNNP"
      },
      "execution_count": 29,
      "outputs": []
    },
    {
      "cell_type": "code",
      "source": [
        "search_algorithms = [\"in\", \"Linear\", \"Binary\", \"Jump\", \"Fibonacci\", \"Exponential\", \"Interpolation\"]\n",
        "\n",
        "plt.figure(figsize=(10, 5))\n",
        "\n",
        "plt.subplot(1, 2, 1)\n",
        "plt.plot(search_algorithms, time1, marker='o', color='b')\n",
        "plt.title('Search Algorithms Performance (array1)')\n",
        "plt.xlabel('Search Algorithm')\n",
        "plt.ylabel('Time (seconds)')\n",
        "\n",
        "plt.subplot(1, 2, 2)\n",
        "plt.plot(search_algorithms, time2, marker='o', color='r')\n",
        "plt.title('Search Algorithms Performance (array2)')\n",
        "plt.xlabel('Search Algorithm')\n",
        "plt.ylabel('Time (seconds)')\n",
        "\n",
        "plt.tight_layout()\n",
        "plt.show()"
      ],
      "metadata": {
        "colab": {
          "base_uri": "https://localhost:8080/",
          "height": 506
        },
        "id": "5wgTSCFLBD00",
        "outputId": "77555620-ef17-4d49-ebb3-c05435abaf16"
      },
      "execution_count": 87,
      "outputs": [
        {
          "output_type": "display_data",
          "data": {
            "text/plain": [
              "<Figure size 1000x500 with 2 Axes>"
            ],
            "image/png": "[encoded data removed]"
          },
          "metadata": {}
        }
      ]
    },
    {
      "cell_type": "markdown",
      "source": [
        "**Задача 4**"
      ],
      "metadata": {
        "id": "066UDfixBxdm"
      }
    },
    {
      "cell_type": "code",
      "source": [
        "array4 = list(range(1, 101))\n",
        "print(array4)"
      ],
      "metadata": {
        "colab": {
          "base_uri": "https://localhost:8080/"
        },
        "id": "HfmPTdLZBz7M",
        "outputId": "a27f465a-3b60-46d7-b86e-c7a36599f51f"
      },
      "execution_count": 56,
      "outputs": [
        {
          "output_type": "stream",
          "name": "stdout",
          "text": [
            "[1, 2, 3, 4, 5, 6, 7, 8, 9, 10, 11, 12, 13, 14, 15, 16, 17, 18, 19, 20, 21, 22, 23, 24, 25, 26, 27, 28, 29, 30, 31, 32, 33, 34, 35, 36, 37, 38, 39, 40, 41, 42, 43, 44, 45, 46, 47, 48, 49, 50, 51, 52, 53, 54, 55, 56, 57, 58, 59, 60, 61, 62, 63, 64, 65, 66, 67, 68, 69, 70, 71, 72, 73, 74, 75, 76, 77, 78, 79, 80, 81, 82, 83, 84, 85, 86, 87, 88, 89, 90, 91, 92, 93, 94, 95, 96, 97, 98, 99, 100]\n"
          ]
        }
      ]
    },
    {
      "cell_type": "code",
      "source": [
        "import timeit"
      ],
      "metadata": {
        "id": "A38a9oiBGtwo"
      },
      "execution_count": 57,
      "outputs": []
    },
    {
      "cell_type": "code",
      "source": [
        "time4_bubble_sort = %timeit -o bubble_sort(array4)\n",
        "time4_selection_sort = %timeit -o selection_sort(array4)\n",
        "time4_insertion_sort = %timeit -o insertion_sort(array4)\n",
        "time4_merge = timeit.timeit(lambda: merge_sort(array4), number=10)\n",
        "time4_quick_sort = %timeit -o quick_sort(array4, 0, len(array4)-1)"
      ],
      "metadata": {
        "colab": {
          "base_uri": "https://localhost:8080/"
        },
        "id": "H88m--6yEh_2",
        "outputId": "b2a86584-a966-4d27-f3a9-715646c6d08a"
      },
      "execution_count": 74,
      "outputs": [
        {
          "output_type": "stream",
          "name": "stdout",
          "text": [
            "25.7 µs ± 7.9 µs per loop (mean ± std. dev. of 7 runs, 10000 loops each)\n",
            "605 µs ± 160 µs per loop (mean ± std. dev. of 7 runs, 1000 loops each)\n",
            "20.1 µs ± 3.38 µs per loop (mean ± std. dev. of 7 runs, 100000 loops each)\n",
            "125 µs ± 30 µs per loop (mean ± std. dev. of 7 runs, 10000 loops each)\n"
          ]
        }
      ]
    },
    {
      "cell_type": "markdown",
      "source": [
        "**Задача 5**"
      ],
      "metadata": {
        "id": "ka25hhVeG44Z"
      }
    },
    {
      "cell_type": "code",
      "source": [
        "array5 = list(range(100, 0, -1))\n",
        "print(array5)"
      ],
      "metadata": {
        "colab": {
          "base_uri": "https://localhost:8080/"
        },
        "id": "EUSUwjm_G8Ya",
        "outputId": "b0fa3fb2-e903-4977-a7f3-fdd937767fbc"
      },
      "execution_count": 62,
      "outputs": [
        {
          "output_type": "stream",
          "name": "stdout",
          "text": [
            "[100, 99, 98, 97, 96, 95, 94, 93, 92, 91, 90, 89, 88, 87, 86, 85, 84, 83, 82, 81, 80, 79, 78, 77, 76, 75, 74, 73, 72, 71, 70, 69, 68, 67, 66, 65, 64, 63, 62, 61, 60, 59, 58, 57, 56, 55, 54, 53, 52, 51, 50, 49, 48, 47, 46, 45, 44, 43, 42, 41, 40, 39, 38, 37, 36, 35, 34, 33, 32, 31, 30, 29, 28, 27, 26, 25, 24, 23, 22, 21, 20, 19, 18, 17, 16, 15, 14, 13, 12, 11, 10, 9, 8, 7, 6, 5, 4, 3, 2, 1]\n"
          ]
        }
      ]
    },
    {
      "cell_type": "code",
      "source": [
        "time5_bubble_sort = %timeit -o bubble_sort(array5)\n",
        "time5_selection_sort = %timeit -o selection_sort(array5)\n",
        "time5_insertion_sort = %timeit -o insertion_sort(array5)\n",
        "time5_merge = timeit.timeit(lambda: merge_sort(array5), number=10)\n",
        "time5_quick_sort = %timeit -o quick_sort(array5, 0, len(array5)-1)"
      ],
      "metadata": {
        "colab": {
          "base_uri": "https://localhost:8080/"
        },
        "id": "zOUBn6EQHalj",
        "outputId": "8075c971-2226-425d-a35a-09b932a51c65"
      },
      "execution_count": 80,
      "outputs": [
        {
          "output_type": "stream",
          "name": "stdout",
          "text": [
            "22.5 µs ± 8.53 µs per loop (mean ± std. dev. of 7 runs, 100000 loops each)\n",
            "504 µs ± 134 µs per loop (mean ± std. dev. of 7 runs, 1000 loops each)\n",
            "20.1 µs ± 4.4 µs per loop (mean ± std. dev. of 7 runs, 100000 loops each)\n",
            "125 µs ± 31.8 µs per loop (mean ± std. dev. of 7 runs, 10000 loops each)\n"
          ]
        }
      ]
    },
    {
      "cell_type": "markdown",
      "source": [
        "**Задача 6**"
      ],
      "metadata": {
        "id": "vtLlWHY3Ke3c"
      }
    },
    {
      "cell_type": "code",
      "source": [
        "time4 = [\n",
        "    time4_bubble_sort.average,\n",
        "    time4_selection_sort.average,\n",
        "    time4_insertion_sort.average,\n",
        "    time4_merge,\n",
        "    time4_quick_sort.average\n",
        "]\n",
        "time5 = [\n",
        "    time5_bubble_sort.average,\n",
        "    time5_selection_sort.average,\n",
        "    time5_insertion_sort.average,\n",
        "    time5_merge,\n",
        "    time5_quick_sort.average\n",
        "]"
      ],
      "metadata": {
        "id": "RPKagCy3IaEr"
      },
      "execution_count": 83,
      "outputs": []
    },
    {
      "cell_type": "code",
      "source": [
        "sort_algorithms = [\"bubble_sort\", \"selection_sort\", \"insertion_sort\", \"merge\", \"quick_sort\"]\n",
        "\n",
        "plt.figure(figsize=(10, 5))\n",
        "\n",
        "plt.subplot(1, 2, 1)\n",
        "plt.plot(sort_algorithms, time4, marker='o', color='b')\n",
        "plt.title('Sorting Algorithms Performance (array4)')\n",
        "plt.xlabel('Sorting Algorithm')\n",
        "plt.ylabel('Time (seconds)')\n",
        "\n",
        "plt.subplot(1, 2, 2)\n",
        "plt.plot(sort_algorithms, time5, marker='o', color='b')\n",
        "plt.title('Sorting Algorithms Performance (array5)')\n",
        "plt.xlabel('Sorting Algorithm')\n",
        "plt.ylabel('Time (seconds)')\n",
        "\n",
        "plt.tight_layout()\n",
        "plt.show()"
      ],
      "metadata": {
        "colab": {
          "base_uri": "https://localhost:8080/",
          "height": 507
        },
        "id": "a9C_8hd8QOid",
        "outputId": "2edf03bd-8d20-491c-a889-502e6e927c4d"
      },
      "execution_count": 86,
      "outputs": [
        {
          "output_type": "display_data",
          "data": {
            "text/plain": [
              "<Figure size 1000x500 with 2 Axes>"
            ],
            "image/png": "[encoded data removed]"
          },
          "metadata": {}
        }
      ]
    },
    {
      "cell_type": "markdown",
      "source": [
        "**Вывод:**\n",
        "\n",
        "Порядок данных (одинаковых массивов) никак не влияет на скорость работы алгоритмов."
      ],
      "metadata": {
        "id": "w4-gaDX3SQjb"
      }
    }
  ]
}